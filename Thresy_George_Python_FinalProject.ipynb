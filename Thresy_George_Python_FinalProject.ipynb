{
 "cells": [
  {
   "cell_type": "code",
   "execution_count": 1,
   "id": "ee627864",
   "metadata": {},
   "outputs": [],
   "source": [
    "#Importing Packages \n",
    "\n",
    "import pandas as pd\n",
    "import numpy as np\n",
    "import matplotlib.pyplot as plt\n",
    "import seaborn as sns\n",
    "from bs4 import BeautifulSoup"
   ]
  },
  {
   "cell_type": "code",
   "execution_count": 2,
   "id": "423b279e",
   "metadata": {},
   "outputs": [
    {
     "data": {
      "text/plain": [
       "60"
      ]
     },
     "execution_count": 2,
     "metadata": {},
     "output_type": "execute_result"
    }
   ],
   "source": [
    "pd.get_option('display.max_rows')"
   ]
  },
  {
   "cell_type": "code",
   "execution_count": 3,
   "id": "21663873",
   "metadata": {},
   "outputs": [
    {
     "name": "stdout",
     "output_type": "stream",
     "text": [
      "      country_code       v1_family          v1_friends        v1_leisure  \\\n",
      "0               AD  Very important      Very important    Very important   \n",
      "1               AD  Very important      Very important    Very important   \n",
      "2               AD  Very important    Rather important  Rather important   \n",
      "3               AD  Very important      Very important    Very important   \n",
      "4               AD  Very important      Very important    Very important   \n",
      "...            ...             ...                 ...               ...   \n",
      "72574           ZW  Very important  Not very important    Very important   \n",
      "72575           ZW  Very important      Very important  Rather important   \n",
      "72576           ZW  Very important  Not very important  Rather important   \n",
      "72577           ZW  Very important    Rather important  Rather important   \n",
      "72578           ZW  Very important    Rather important  Rather important   \n",
      "\n",
      "                v1_politics             v1_work           v1_religion     sex  \\\n",
      "0        Not very important      Very important  Not at all important  Female   \n",
      "1      Not at all important      Very important  Not at all important    Male   \n",
      "2          Rather important  Not very important    Not very important    Male   \n",
      "3      Not at all important    Rather important  Not at all important  Female   \n",
      "4        Not very important      Very important    Not very important    Male   \n",
      "...                     ...                 ...                   ...     ...   \n",
      "72574        Very important      Very important      Rather important  Female   \n",
      "72575        Very important      Very important        Very important    Male   \n",
      "72576      Rather important    Rather important      Rather important  Female   \n",
      "72577        Very important      Very important        Very important  Female   \n",
      "72578      Rather important      Very important        Very important    Male   \n",
      "\n",
      "                   marital_status education income_levels  response_id  \n",
      "0                         Married    Middle        Medium            1  \n",
      "1      Living together as married     Upper          High            2  \n",
      "2                       Separated     Upper        Medium            3  \n",
      "3      Living together as married     Lower        Medium            4  \n",
      "4      Living together as married     Lower        Medium            5  \n",
      "...                           ...       ...           ...          ...  \n",
      "72574                     Married     Lower        Medium        72575  \n",
      "72575                     Married     Upper        Medium        72576  \n",
      "72576                     Married     Lower        Medium        72577  \n",
      "72577                     Married     Lower           Low        72578  \n",
      "72578                     Married     Lower           Low        72579  \n",
      "\n",
      "[72579 rows x 12 columns]\n"
     ]
    }
   ],
   "source": [
    "#Importing data from csv\n",
    "\n",
    "df1=pd.read_csv('Thresy_variables.csv',index_col=None)\n",
    "print(df1)"
   ]
  },
  {
   "cell_type": "code",
   "execution_count": 4,
   "id": "699fc560",
   "metadata": {},
   "outputs": [
    {
     "data": {
      "text/html": [
       "<div>\n",
       "<style scoped>\n",
       "    .dataframe tbody tr th:only-of-type {\n",
       "        vertical-align: middle;\n",
       "    }\n",
       "\n",
       "    .dataframe tbody tr th {\n",
       "        vertical-align: top;\n",
       "    }\n",
       "\n",
       "    .dataframe thead th {\n",
       "        text-align: right;\n",
       "    }\n",
       "</style>\n",
       "<table border=\"1\" class=\"dataframe\">\n",
       "  <thead>\n",
       "    <tr style=\"text-align: right;\">\n",
       "      <th></th>\n",
       "      <th>country_code</th>\n",
       "      <th>v1_family</th>\n",
       "      <th>v1_friends</th>\n",
       "      <th>v1_leisure</th>\n",
       "      <th>v1_politics</th>\n",
       "      <th>v1_work</th>\n",
       "      <th>v1_religion</th>\n",
       "      <th>sex</th>\n",
       "      <th>marital_status</th>\n",
       "      <th>education</th>\n",
       "      <th>income_levels</th>\n",
       "      <th>response_id</th>\n",
       "    </tr>\n",
       "  </thead>\n",
       "  <tbody>\n",
       "    <tr>\n",
       "      <th>0</th>\n",
       "      <td>AD</td>\n",
       "      <td>Very important</td>\n",
       "      <td>Very important</td>\n",
       "      <td>Very important</td>\n",
       "      <td>Not very important</td>\n",
       "      <td>Very important</td>\n",
       "      <td>Not at all important</td>\n",
       "      <td>Female</td>\n",
       "      <td>Married</td>\n",
       "      <td>Middle</td>\n",
       "      <td>Medium</td>\n",
       "      <td>1</td>\n",
       "    </tr>\n",
       "    <tr>\n",
       "      <th>1</th>\n",
       "      <td>AD</td>\n",
       "      <td>Very important</td>\n",
       "      <td>Very important</td>\n",
       "      <td>Very important</td>\n",
       "      <td>Not at all important</td>\n",
       "      <td>Very important</td>\n",
       "      <td>Not at all important</td>\n",
       "      <td>Male</td>\n",
       "      <td>Living together as married</td>\n",
       "      <td>Upper</td>\n",
       "      <td>High</td>\n",
       "      <td>2</td>\n",
       "    </tr>\n",
       "    <tr>\n",
       "      <th>2</th>\n",
       "      <td>AD</td>\n",
       "      <td>Very important</td>\n",
       "      <td>Rather important</td>\n",
       "      <td>Rather important</td>\n",
       "      <td>Rather important</td>\n",
       "      <td>Not very important</td>\n",
       "      <td>Not very important</td>\n",
       "      <td>Male</td>\n",
       "      <td>Separated</td>\n",
       "      <td>Upper</td>\n",
       "      <td>Medium</td>\n",
       "      <td>3</td>\n",
       "    </tr>\n",
       "    <tr>\n",
       "      <th>3</th>\n",
       "      <td>AD</td>\n",
       "      <td>Very important</td>\n",
       "      <td>Very important</td>\n",
       "      <td>Very important</td>\n",
       "      <td>Not at all important</td>\n",
       "      <td>Rather important</td>\n",
       "      <td>Not at all important</td>\n",
       "      <td>Female</td>\n",
       "      <td>Living together as married</td>\n",
       "      <td>Lower</td>\n",
       "      <td>Medium</td>\n",
       "      <td>4</td>\n",
       "    </tr>\n",
       "    <tr>\n",
       "      <th>4</th>\n",
       "      <td>AD</td>\n",
       "      <td>Very important</td>\n",
       "      <td>Very important</td>\n",
       "      <td>Very important</td>\n",
       "      <td>Not very important</td>\n",
       "      <td>Very important</td>\n",
       "      <td>Not very important</td>\n",
       "      <td>Male</td>\n",
       "      <td>Living together as married</td>\n",
       "      <td>Lower</td>\n",
       "      <td>Medium</td>\n",
       "      <td>5</td>\n",
       "    </tr>\n",
       "  </tbody>\n",
       "</table>\n",
       "</div>"
      ],
      "text/plain": [
       "  country_code       v1_family        v1_friends        v1_leisure  \\\n",
       "0           AD  Very important    Very important    Very important   \n",
       "1           AD  Very important    Very important    Very important   \n",
       "2           AD  Very important  Rather important  Rather important   \n",
       "3           AD  Very important    Very important    Very important   \n",
       "4           AD  Very important    Very important    Very important   \n",
       "\n",
       "            v1_politics             v1_work           v1_religion     sex  \\\n",
       "0    Not very important      Very important  Not at all important  Female   \n",
       "1  Not at all important      Very important  Not at all important    Male   \n",
       "2      Rather important  Not very important    Not very important    Male   \n",
       "3  Not at all important    Rather important  Not at all important  Female   \n",
       "4    Not very important      Very important    Not very important    Male   \n",
       "\n",
       "               marital_status education income_levels  response_id  \n",
       "0                     Married    Middle        Medium            1  \n",
       "1  Living together as married     Upper          High            2  \n",
       "2                   Separated     Upper        Medium            3  \n",
       "3  Living together as married     Lower        Medium            4  \n",
       "4  Living together as married     Lower        Medium            5  "
      ]
     },
     "execution_count": 4,
     "metadata": {},
     "output_type": "execute_result"
    }
   ],
   "source": [
    "#Displaying the top 5 rows of df1\n",
    "\n",
    "df1.head()"
   ]
  },
  {
   "cell_type": "code",
   "execution_count": 5,
   "id": "6ff3f827",
   "metadata": {},
   "outputs": [
    {
     "name": "stdout",
     "output_type": "stream",
     "text": [
      "col_0                 count\n",
      "v1_family                  \n",
      "Not at all important    137\n",
      "Not very important      572\n",
      "Rather important       6171\n",
      "Very important        65699\n"
     ]
    }
   ],
   "source": [
    "#Frequency of the variable: v1_family of data frame df1\n",
    "\n",
    "family_count = print(pd.crosstab(index=df1['v1_family'], columns='count'))"
   ]
  },
  {
   "cell_type": "code",
   "execution_count": 6,
   "id": "777e3837",
   "metadata": {},
   "outputs": [],
   "source": [
    "#Importing data through Web Scrapping\n",
    "\n",
    "import requests"
   ]
  },
  {
   "cell_type": "code",
   "execution_count": 7,
   "id": "bf1e1672",
   "metadata": {},
   "outputs": [],
   "source": [
    "wiki_url = \"https://en.wikipedia.org/wiki/ISO_3166-2\""
   ]
  },
  {
   "cell_type": "code",
   "execution_count": 8,
   "id": "0d58e708",
   "metadata": {},
   "outputs": [],
   "source": [
    "table_class=\"wikitable sortable jquery-tablesorter\""
   ]
  },
  {
   "cell_type": "code",
   "execution_count": 9,
   "id": "1f20bbda",
   "metadata": {},
   "outputs": [],
   "source": [
    "response=requests.get(wiki_url)"
   ]
  },
  {
   "cell_type": "code",
   "execution_count": 10,
   "id": "1f84f381",
   "metadata": {},
   "outputs": [
    {
     "name": "stdout",
     "output_type": "stream",
     "text": [
      "200\n"
     ]
    }
   ],
   "source": [
    "print(response.status_code)"
   ]
  },
  {
   "cell_type": "code",
   "execution_count": 11,
   "id": "6921d23c",
   "metadata": {},
   "outputs": [],
   "source": [
    "soup = BeautifulSoup(response.text, 'html.parser')"
   ]
  },
  {
   "cell_type": "code",
   "execution_count": 12,
   "id": "95abf43b",
   "metadata": {},
   "outputs": [],
   "source": [
    "mytable=soup.find('table',{'class':\"wikitable\"})"
   ]
  },
  {
   "cell_type": "code",
   "execution_count": 13,
   "id": "75a98c99",
   "metadata": {},
   "outputs": [],
   "source": [
    "df2=pd.read_html(str(mytable))"
   ]
  },
  {
   "cell_type": "code",
   "execution_count": 14,
   "id": "de5c93b6",
   "metadata": {},
   "outputs": [
    {
     "name": "stdout",
     "output_type": "stream",
     "text": [
      "    Entry (click to view codes) Country name (using title case)  \\\n",
      "0                            AD                         Andorra   \n",
      "1                            AE            United Arab Emirates   \n",
      "2                            AF                     Afghanistan   \n",
      "3                            AG             Antigua and Barbuda   \n",
      "4                            AI                        Anguilla   \n",
      "..                          ...                             ...   \n",
      "244                          YE                           Yemen   \n",
      "245                          YT                         Mayotte   \n",
      "246                          ZA                    South Africa   \n",
      "247                          ZM                          Zambia   \n",
      "248                          ZW                        Zimbabwe   \n",
      "\n",
      "     Subdivisions assigned codes[1]  \n",
      "0                        7 parishes  \n",
      "1                        7 emirates  \n",
      "2                      34 provinces  \n",
      "3         6 parishes 2 dependencies  \n",
      "4                                 —  \n",
      "..                              ...  \n",
      "244  1 municipality 21 governorates  \n",
      "245                               —  \n",
      "246                     9 provinces  \n",
      "247                    10 provinces  \n",
      "248                    10 provinces  \n",
      "\n",
      "[249 rows x 3 columns]\n"
     ]
    }
   ],
   "source": [
    "df2=pd.DataFrame(df2[0])\n",
    "print(df2)"
   ]
  },
  {
   "cell_type": "code",
   "execution_count": 15,
   "id": "e7cbcd58",
   "metadata": {},
   "outputs": [
    {
     "name": "stdout",
     "output_type": "stream",
     "text": [
      "  Entry (click to view codes) Country name (using title case)  \\\n",
      "0                          AD                         Andorra   \n",
      "1                          AE            United Arab Emirates   \n",
      "2                          AF                     Afghanistan   \n",
      "3                          AG             Antigua and Barbuda   \n",
      "4                          AI                        Anguilla   \n",
      "\n",
      "  Subdivisions assigned codes[1]  \n",
      "0                     7 parishes  \n",
      "1                     7 emirates  \n",
      "2                   34 provinces  \n",
      "3      6 parishes 2 dependencies  \n",
      "4                              —  \n"
     ]
    }
   ],
   "source": [
    "print(df2.head())"
   ]
  },
  {
   "cell_type": "code",
   "execution_count": 16,
   "id": "b897cb29",
   "metadata": {},
   "outputs": [
    {
     "name": "stdout",
     "output_type": "stream",
     "text": [
      "Index(['Entry (click to view codes)', 'Country name (using title case)',\n",
      "       'Subdivisions assigned codes[1]'],\n",
      "      dtype='object')\n"
     ]
    }
   ],
   "source": [
    "print(df2.columns)"
   ]
  },
  {
   "cell_type": "code",
   "execution_count": 17,
   "id": "a52706e7",
   "metadata": {},
   "outputs": [],
   "source": [
    "#Renaming the columns of dataframe\n",
    "\n",
    "df2.rename(columns= {'Entry (click to view codes)': 'country_code', 'Country name (using title case)': 'country_name'}, inplace=True)"
   ]
  },
  {
   "cell_type": "code",
   "execution_count": 18,
   "id": "0553c490",
   "metadata": {},
   "outputs": [],
   "source": [
    "#Removing unnecessary column\n",
    "\n",
    "df2 = df2.drop(\"Subdivisions assigned codes[1]\", axis=1)"
   ]
  },
  {
   "cell_type": "code",
   "execution_count": 19,
   "id": "e5ed942a",
   "metadata": {},
   "outputs": [
    {
     "name": "stdout",
     "output_type": "stream",
     "text": [
      "    country_code          country_name\n",
      "0             AD               Andorra\n",
      "1             AE  United Arab Emirates\n",
      "2             AF           Afghanistan\n",
      "3             AG   Antigua and Barbuda\n",
      "4             AI              Anguilla\n",
      "..           ...                   ...\n",
      "244           YE                 Yemen\n",
      "245           YT               Mayotte\n",
      "246           ZA          South Africa\n",
      "247           ZM                Zambia\n",
      "248           ZW              Zimbabwe\n",
      "\n",
      "[249 rows x 2 columns]\n"
     ]
    }
   ],
   "source": [
    "print(df2)"
   ]
  },
  {
   "cell_type": "code",
   "execution_count": 20,
   "id": "949d20b6",
   "metadata": {},
   "outputs": [
    {
     "name": "stdout",
     "output_type": "stream",
     "text": [
      "               GDP country_code\n",
      "0      3202.188607           AW\n",
      "1     19807.067268           AF\n",
      "2     62306.913444           AO\n",
      "3     14799.615097           AL\n",
      "4      3155.065488           AD\n",
      "..             ...          ...\n",
      "200     807.027244           WS\n",
      "201   23486.269599           YE\n",
      "202  301923.639270           ZA\n",
      "203   19320.053859           ZM\n",
      "204   16768.513443           ZW\n",
      "\n",
      "[205 rows x 2 columns]\n"
     ]
    }
   ],
   "source": [
    "#Importing dataset of GDP\n",
    "\n",
    "df_gdp=pd.read_csv('Thresy_GDP.csv',index_col=None)\n",
    "print(df_gdp)"
   ]
  },
  {
   "cell_type": "code",
   "execution_count": 21,
   "id": "6786ff70",
   "metadata": {},
   "outputs": [],
   "source": [
    "#Merging the data frames\n",
    "\n",
    "df_new = df1.merge(df2, on='country_code' )"
   ]
  },
  {
   "cell_type": "code",
   "execution_count": 22,
   "id": "ce434281",
   "metadata": {},
   "outputs": [
    {
     "name": "stdout",
     "output_type": "stream",
     "text": [
      "      country_code       v1_family          v1_friends        v1_leisure  \\\n",
      "0               AD  Very important      Very important    Very important   \n",
      "1               AD  Very important      Very important    Very important   \n",
      "2               AD  Very important    Rather important  Rather important   \n",
      "3               AD  Very important      Very important    Very important   \n",
      "4               AD  Very important      Very important    Very important   \n",
      "...            ...             ...                 ...               ...   \n",
      "72574           ZW  Very important  Not very important    Very important   \n",
      "72575           ZW  Very important      Very important  Rather important   \n",
      "72576           ZW  Very important  Not very important  Rather important   \n",
      "72577           ZW  Very important    Rather important  Rather important   \n",
      "72578           ZW  Very important    Rather important  Rather important   \n",
      "\n",
      "                v1_politics             v1_work           v1_religion     sex  \\\n",
      "0        Not very important      Very important  Not at all important  Female   \n",
      "1      Not at all important      Very important  Not at all important    Male   \n",
      "2          Rather important  Not very important    Not very important    Male   \n",
      "3      Not at all important    Rather important  Not at all important  Female   \n",
      "4        Not very important      Very important    Not very important    Male   \n",
      "...                     ...                 ...                   ...     ...   \n",
      "72574        Very important      Very important      Rather important  Female   \n",
      "72575        Very important      Very important        Very important    Male   \n",
      "72576      Rather important    Rather important      Rather important  Female   \n",
      "72577        Very important      Very important        Very important  Female   \n",
      "72578      Rather important      Very important        Very important    Male   \n",
      "\n",
      "                   marital_status education income_levels  response_id  \\\n",
      "0                         Married    Middle        Medium            1   \n",
      "1      Living together as married     Upper          High            2   \n",
      "2                       Separated     Upper        Medium            3   \n",
      "3      Living together as married     Lower        Medium            4   \n",
      "4      Living together as married     Lower        Medium            5   \n",
      "...                           ...       ...           ...          ...   \n",
      "72574                     Married     Lower        Medium        72575   \n",
      "72575                     Married     Upper        Medium        72576   \n",
      "72576                     Married     Lower        Medium        72577   \n",
      "72577                     Married     Lower           Low        72578   \n",
      "72578                     Married     Lower           Low        72579   \n",
      "\n",
      "      country_name  \n",
      "0          Andorra  \n",
      "1          Andorra  \n",
      "2          Andorra  \n",
      "3          Andorra  \n",
      "4          Andorra  \n",
      "...            ...  \n",
      "72574     Zimbabwe  \n",
      "72575     Zimbabwe  \n",
      "72576     Zimbabwe  \n",
      "72577     Zimbabwe  \n",
      "72578     Zimbabwe  \n",
      "\n",
      "[72579 rows x 13 columns]\n"
     ]
    }
   ],
   "source": [
    "print(df_new)"
   ]
  },
  {
   "cell_type": "code",
   "execution_count": 23,
   "id": "4a6a9ba8",
   "metadata": {},
   "outputs": [
    {
     "name": "stdout",
     "output_type": "stream",
     "text": [
      "      country_code       v1_family          v1_friends        v1_leisure  \\\n",
      "0               AD  Very important      Very important    Very important   \n",
      "1               AD  Very important      Very important    Very important   \n",
      "2               AD  Very important    Rather important  Rather important   \n",
      "3               AD  Very important      Very important    Very important   \n",
      "4               AD  Very important      Very important    Very important   \n",
      "...            ...             ...                 ...               ...   \n",
      "71353           ZW  Very important  Not very important    Very important   \n",
      "71354           ZW  Very important      Very important  Rather important   \n",
      "71355           ZW  Very important  Not very important  Rather important   \n",
      "71356           ZW  Very important    Rather important  Rather important   \n",
      "71357           ZW  Very important    Rather important  Rather important   \n",
      "\n",
      "                v1_politics             v1_work           v1_religion     sex  \\\n",
      "0        Not very important      Very important  Not at all important  Female   \n",
      "1      Not at all important      Very important  Not at all important    Male   \n",
      "2          Rather important  Not very important    Not very important    Male   \n",
      "3      Not at all important    Rather important  Not at all important  Female   \n",
      "4        Not very important      Very important    Not very important    Male   \n",
      "...                     ...                 ...                   ...     ...   \n",
      "71353        Very important      Very important      Rather important  Female   \n",
      "71354        Very important      Very important        Very important    Male   \n",
      "71355      Rather important    Rather important      Rather important  Female   \n",
      "71356        Very important      Very important        Very important  Female   \n",
      "71357      Rather important      Very important        Very important    Male   \n",
      "\n",
      "                   marital_status education income_levels  response_id  \\\n",
      "0                         Married    Middle        Medium            1   \n",
      "1      Living together as married     Upper          High            2   \n",
      "2                       Separated     Upper        Medium            3   \n",
      "3      Living together as married     Lower        Medium            4   \n",
      "4      Living together as married     Lower        Medium            5   \n",
      "...                           ...       ...           ...          ...   \n",
      "71353                     Married     Lower        Medium        72575   \n",
      "71354                     Married     Upper        Medium        72576   \n",
      "71355                     Married     Lower        Medium        72577   \n",
      "71356                     Married     Lower           Low        72578   \n",
      "71357                     Married     Lower           Low        72579   \n",
      "\n",
      "      country_name           GDP  \n",
      "0          Andorra   3155.065488  \n",
      "1          Andorra   3155.065488  \n",
      "2          Andorra   3155.065488  \n",
      "3          Andorra   3155.065488  \n",
      "4          Andorra   3155.065488  \n",
      "...            ...           ...  \n",
      "71353     Zimbabwe  16768.513443  \n",
      "71354     Zimbabwe  16768.513443  \n",
      "71355     Zimbabwe  16768.513443  \n",
      "71356     Zimbabwe  16768.513443  \n",
      "71357     Zimbabwe  16768.513443  \n",
      "\n",
      "[71358 rows x 14 columns]\n"
     ]
    }
   ],
   "source": [
    "df = df_new.merge(df_gdp, on='country_code' )\n",
    "print(df)"
   ]
  },
  {
   "cell_type": "code",
   "execution_count": 24,
   "id": "17f89a00",
   "metadata": {},
   "outputs": [
    {
     "data": {
      "text/plain": [
       "0        False\n",
       "1        False\n",
       "2        False\n",
       "3        False\n",
       "4        False\n",
       "         ...  \n",
       "71353    False\n",
       "71354    False\n",
       "71355    False\n",
       "71356    False\n",
       "71357    False\n",
       "Length: 71358, dtype: bool"
      ]
     },
     "execution_count": 24,
     "metadata": {},
     "output_type": "execute_result"
    }
   ],
   "source": [
    "#Checking for duplicates\n",
    "\n",
    "df.duplicated()"
   ]
  },
  {
   "cell_type": "code",
   "execution_count": 25,
   "id": "a18fc260",
   "metadata": {},
   "outputs": [
    {
     "data": {
      "text/plain": [
       "0"
      ]
     },
     "execution_count": 25,
     "metadata": {},
     "output_type": "execute_result"
    }
   ],
   "source": [
    "df.duplicated().sum()"
   ]
  },
  {
   "cell_type": "code",
   "execution_count": 26,
   "id": "9ebe973c",
   "metadata": {},
   "outputs": [
    {
     "data": {
      "text/html": [
       "<div>\n",
       "<style scoped>\n",
       "    .dataframe tbody tr th:only-of-type {\n",
       "        vertical-align: middle;\n",
       "    }\n",
       "\n",
       "    .dataframe tbody tr th {\n",
       "        vertical-align: top;\n",
       "    }\n",
       "\n",
       "    .dataframe thead th {\n",
       "        text-align: right;\n",
       "    }\n",
       "</style>\n",
       "<table border=\"1\" class=\"dataframe\">\n",
       "  <thead>\n",
       "    <tr style=\"text-align: right;\">\n",
       "      <th></th>\n",
       "      <th>country_code</th>\n",
       "      <th>v1_family</th>\n",
       "      <th>v1_friends</th>\n",
       "      <th>v1_leisure</th>\n",
       "      <th>v1_politics</th>\n",
       "      <th>v1_work</th>\n",
       "      <th>v1_religion</th>\n",
       "      <th>sex</th>\n",
       "      <th>marital_status</th>\n",
       "      <th>education</th>\n",
       "      <th>income_levels</th>\n",
       "      <th>response_id</th>\n",
       "      <th>country_name</th>\n",
       "      <th>GDP</th>\n",
       "    </tr>\n",
       "  </thead>\n",
       "  <tbody>\n",
       "    <tr>\n",
       "      <th>0</th>\n",
       "      <td>AD</td>\n",
       "      <td>Very important</td>\n",
       "      <td>Very important</td>\n",
       "      <td>Very important</td>\n",
       "      <td>Not very important</td>\n",
       "      <td>Very important</td>\n",
       "      <td>Not at all important</td>\n",
       "      <td>Female</td>\n",
       "      <td>Married</td>\n",
       "      <td>Middle</td>\n",
       "      <td>Medium</td>\n",
       "      <td>1</td>\n",
       "      <td>Andorra</td>\n",
       "      <td>3155.065488</td>\n",
       "    </tr>\n",
       "    <tr>\n",
       "      <th>1</th>\n",
       "      <td>AD</td>\n",
       "      <td>Very important</td>\n",
       "      <td>Very important</td>\n",
       "      <td>Very important</td>\n",
       "      <td>Not at all important</td>\n",
       "      <td>Very important</td>\n",
       "      <td>Not at all important</td>\n",
       "      <td>Male</td>\n",
       "      <td>Living together as married</td>\n",
       "      <td>Upper</td>\n",
       "      <td>High</td>\n",
       "      <td>2</td>\n",
       "      <td>Andorra</td>\n",
       "      <td>3155.065488</td>\n",
       "    </tr>\n",
       "    <tr>\n",
       "      <th>2</th>\n",
       "      <td>AD</td>\n",
       "      <td>Very important</td>\n",
       "      <td>Rather important</td>\n",
       "      <td>Rather important</td>\n",
       "      <td>Rather important</td>\n",
       "      <td>Not very important</td>\n",
       "      <td>Not very important</td>\n",
       "      <td>Male</td>\n",
       "      <td>Separated</td>\n",
       "      <td>Upper</td>\n",
       "      <td>Medium</td>\n",
       "      <td>3</td>\n",
       "      <td>Andorra</td>\n",
       "      <td>3155.065488</td>\n",
       "    </tr>\n",
       "    <tr>\n",
       "      <th>3</th>\n",
       "      <td>AD</td>\n",
       "      <td>Very important</td>\n",
       "      <td>Very important</td>\n",
       "      <td>Very important</td>\n",
       "      <td>Not at all important</td>\n",
       "      <td>Rather important</td>\n",
       "      <td>Not at all important</td>\n",
       "      <td>Female</td>\n",
       "      <td>Living together as married</td>\n",
       "      <td>Lower</td>\n",
       "      <td>Medium</td>\n",
       "      <td>4</td>\n",
       "      <td>Andorra</td>\n",
       "      <td>3155.065488</td>\n",
       "    </tr>\n",
       "    <tr>\n",
       "      <th>4</th>\n",
       "      <td>AD</td>\n",
       "      <td>Very important</td>\n",
       "      <td>Very important</td>\n",
       "      <td>Very important</td>\n",
       "      <td>Not very important</td>\n",
       "      <td>Very important</td>\n",
       "      <td>Not very important</td>\n",
       "      <td>Male</td>\n",
       "      <td>Living together as married</td>\n",
       "      <td>Lower</td>\n",
       "      <td>Medium</td>\n",
       "      <td>5</td>\n",
       "      <td>Andorra</td>\n",
       "      <td>3155.065488</td>\n",
       "    </tr>\n",
       "    <tr>\n",
       "      <th>...</th>\n",
       "      <td>...</td>\n",
       "      <td>...</td>\n",
       "      <td>...</td>\n",
       "      <td>...</td>\n",
       "      <td>...</td>\n",
       "      <td>...</td>\n",
       "      <td>...</td>\n",
       "      <td>...</td>\n",
       "      <td>...</td>\n",
       "      <td>...</td>\n",
       "      <td>...</td>\n",
       "      <td>...</td>\n",
       "      <td>...</td>\n",
       "      <td>...</td>\n",
       "    </tr>\n",
       "    <tr>\n",
       "      <th>71353</th>\n",
       "      <td>ZW</td>\n",
       "      <td>Very important</td>\n",
       "      <td>Not very important</td>\n",
       "      <td>Very important</td>\n",
       "      <td>Very important</td>\n",
       "      <td>Very important</td>\n",
       "      <td>Rather important</td>\n",
       "      <td>Female</td>\n",
       "      <td>Married</td>\n",
       "      <td>Lower</td>\n",
       "      <td>Medium</td>\n",
       "      <td>72575</td>\n",
       "      <td>Zimbabwe</td>\n",
       "      <td>16768.513443</td>\n",
       "    </tr>\n",
       "    <tr>\n",
       "      <th>71354</th>\n",
       "      <td>ZW</td>\n",
       "      <td>Very important</td>\n",
       "      <td>Very important</td>\n",
       "      <td>Rather important</td>\n",
       "      <td>Very important</td>\n",
       "      <td>Very important</td>\n",
       "      <td>Very important</td>\n",
       "      <td>Male</td>\n",
       "      <td>Married</td>\n",
       "      <td>Upper</td>\n",
       "      <td>Medium</td>\n",
       "      <td>72576</td>\n",
       "      <td>Zimbabwe</td>\n",
       "      <td>16768.513443</td>\n",
       "    </tr>\n",
       "    <tr>\n",
       "      <th>71355</th>\n",
       "      <td>ZW</td>\n",
       "      <td>Very important</td>\n",
       "      <td>Not very important</td>\n",
       "      <td>Rather important</td>\n",
       "      <td>Rather important</td>\n",
       "      <td>Rather important</td>\n",
       "      <td>Rather important</td>\n",
       "      <td>Female</td>\n",
       "      <td>Married</td>\n",
       "      <td>Lower</td>\n",
       "      <td>Medium</td>\n",
       "      <td>72577</td>\n",
       "      <td>Zimbabwe</td>\n",
       "      <td>16768.513443</td>\n",
       "    </tr>\n",
       "    <tr>\n",
       "      <th>71356</th>\n",
       "      <td>ZW</td>\n",
       "      <td>Very important</td>\n",
       "      <td>Rather important</td>\n",
       "      <td>Rather important</td>\n",
       "      <td>Very important</td>\n",
       "      <td>Very important</td>\n",
       "      <td>Very important</td>\n",
       "      <td>Female</td>\n",
       "      <td>Married</td>\n",
       "      <td>Lower</td>\n",
       "      <td>Low</td>\n",
       "      <td>72578</td>\n",
       "      <td>Zimbabwe</td>\n",
       "      <td>16768.513443</td>\n",
       "    </tr>\n",
       "    <tr>\n",
       "      <th>71357</th>\n",
       "      <td>ZW</td>\n",
       "      <td>Very important</td>\n",
       "      <td>Rather important</td>\n",
       "      <td>Rather important</td>\n",
       "      <td>Rather important</td>\n",
       "      <td>Very important</td>\n",
       "      <td>Very important</td>\n",
       "      <td>Male</td>\n",
       "      <td>Married</td>\n",
       "      <td>Lower</td>\n",
       "      <td>Low</td>\n",
       "      <td>72579</td>\n",
       "      <td>Zimbabwe</td>\n",
       "      <td>16768.513443</td>\n",
       "    </tr>\n",
       "  </tbody>\n",
       "</table>\n",
       "<p>71358 rows × 14 columns</p>\n",
       "</div>"
      ],
      "text/plain": [
       "      country_code       v1_family          v1_friends        v1_leisure  \\\n",
       "0               AD  Very important      Very important    Very important   \n",
       "1               AD  Very important      Very important    Very important   \n",
       "2               AD  Very important    Rather important  Rather important   \n",
       "3               AD  Very important      Very important    Very important   \n",
       "4               AD  Very important      Very important    Very important   \n",
       "...            ...             ...                 ...               ...   \n",
       "71353           ZW  Very important  Not very important    Very important   \n",
       "71354           ZW  Very important      Very important  Rather important   \n",
       "71355           ZW  Very important  Not very important  Rather important   \n",
       "71356           ZW  Very important    Rather important  Rather important   \n",
       "71357           ZW  Very important    Rather important  Rather important   \n",
       "\n",
       "                v1_politics             v1_work           v1_religion     sex  \\\n",
       "0        Not very important      Very important  Not at all important  Female   \n",
       "1      Not at all important      Very important  Not at all important    Male   \n",
       "2          Rather important  Not very important    Not very important    Male   \n",
       "3      Not at all important    Rather important  Not at all important  Female   \n",
       "4        Not very important      Very important    Not very important    Male   \n",
       "...                     ...                 ...                   ...     ...   \n",
       "71353        Very important      Very important      Rather important  Female   \n",
       "71354        Very important      Very important        Very important    Male   \n",
       "71355      Rather important    Rather important      Rather important  Female   \n",
       "71356        Very important      Very important        Very important  Female   \n",
       "71357      Rather important      Very important        Very important    Male   \n",
       "\n",
       "                   marital_status education income_levels  response_id  \\\n",
       "0                         Married    Middle        Medium            1   \n",
       "1      Living together as married     Upper          High            2   \n",
       "2                       Separated     Upper        Medium            3   \n",
       "3      Living together as married     Lower        Medium            4   \n",
       "4      Living together as married     Lower        Medium            5   \n",
       "...                           ...       ...           ...          ...   \n",
       "71353                     Married     Lower        Medium        72575   \n",
       "71354                     Married     Upper        Medium        72576   \n",
       "71355                     Married     Lower        Medium        72577   \n",
       "71356                     Married     Lower           Low        72578   \n",
       "71357                     Married     Lower           Low        72579   \n",
       "\n",
       "      country_name           GDP  \n",
       "0          Andorra   3155.065488  \n",
       "1          Andorra   3155.065488  \n",
       "2          Andorra   3155.065488  \n",
       "3          Andorra   3155.065488  \n",
       "4          Andorra   3155.065488  \n",
       "...            ...           ...  \n",
       "71353     Zimbabwe  16768.513443  \n",
       "71354     Zimbabwe  16768.513443  \n",
       "71355     Zimbabwe  16768.513443  \n",
       "71356     Zimbabwe  16768.513443  \n",
       "71357     Zimbabwe  16768.513443  \n",
       "\n",
       "[71358 rows x 14 columns]"
      ]
     },
     "execution_count": 26,
     "metadata": {},
     "output_type": "execute_result"
    }
   ],
   "source": [
    "#Remove duplicates\n",
    "\n",
    "df.drop_duplicates()"
   ]
  },
  {
   "cell_type": "code",
   "execution_count": 27,
   "id": "b19e4e01",
   "metadata": {},
   "outputs": [
    {
     "data": {
      "text/html": [
       "<div>\n",
       "<style scoped>\n",
       "    .dataframe tbody tr th:only-of-type {\n",
       "        vertical-align: middle;\n",
       "    }\n",
       "\n",
       "    .dataframe tbody tr th {\n",
       "        vertical-align: top;\n",
       "    }\n",
       "\n",
       "    .dataframe thead th {\n",
       "        text-align: right;\n",
       "    }\n",
       "</style>\n",
       "<table border=\"1\" class=\"dataframe\">\n",
       "  <thead>\n",
       "    <tr style=\"text-align: right;\">\n",
       "      <th></th>\n",
       "      <th>country_code</th>\n",
       "      <th>v1_family</th>\n",
       "      <th>v1_friends</th>\n",
       "      <th>v1_leisure</th>\n",
       "      <th>v1_politics</th>\n",
       "      <th>v1_work</th>\n",
       "      <th>v1_religion</th>\n",
       "      <th>sex</th>\n",
       "      <th>marital_status</th>\n",
       "      <th>education</th>\n",
       "      <th>income_levels</th>\n",
       "      <th>response_id</th>\n",
       "      <th>country_name</th>\n",
       "      <th>GDP</th>\n",
       "    </tr>\n",
       "  </thead>\n",
       "  <tbody>\n",
       "    <tr>\n",
       "      <th>0</th>\n",
       "      <td>False</td>\n",
       "      <td>False</td>\n",
       "      <td>False</td>\n",
       "      <td>False</td>\n",
       "      <td>False</td>\n",
       "      <td>False</td>\n",
       "      <td>False</td>\n",
       "      <td>False</td>\n",
       "      <td>False</td>\n",
       "      <td>False</td>\n",
       "      <td>False</td>\n",
       "      <td>False</td>\n",
       "      <td>False</td>\n",
       "      <td>False</td>\n",
       "    </tr>\n",
       "    <tr>\n",
       "      <th>1</th>\n",
       "      <td>False</td>\n",
       "      <td>False</td>\n",
       "      <td>False</td>\n",
       "      <td>False</td>\n",
       "      <td>False</td>\n",
       "      <td>False</td>\n",
       "      <td>False</td>\n",
       "      <td>False</td>\n",
       "      <td>False</td>\n",
       "      <td>False</td>\n",
       "      <td>False</td>\n",
       "      <td>False</td>\n",
       "      <td>False</td>\n",
       "      <td>False</td>\n",
       "    </tr>\n",
       "    <tr>\n",
       "      <th>2</th>\n",
       "      <td>False</td>\n",
       "      <td>False</td>\n",
       "      <td>False</td>\n",
       "      <td>False</td>\n",
       "      <td>False</td>\n",
       "      <td>False</td>\n",
       "      <td>False</td>\n",
       "      <td>False</td>\n",
       "      <td>False</td>\n",
       "      <td>False</td>\n",
       "      <td>False</td>\n",
       "      <td>False</td>\n",
       "      <td>False</td>\n",
       "      <td>False</td>\n",
       "    </tr>\n",
       "    <tr>\n",
       "      <th>3</th>\n",
       "      <td>False</td>\n",
       "      <td>False</td>\n",
       "      <td>False</td>\n",
       "      <td>False</td>\n",
       "      <td>False</td>\n",
       "      <td>False</td>\n",
       "      <td>False</td>\n",
       "      <td>False</td>\n",
       "      <td>False</td>\n",
       "      <td>False</td>\n",
       "      <td>False</td>\n",
       "      <td>False</td>\n",
       "      <td>False</td>\n",
       "      <td>False</td>\n",
       "    </tr>\n",
       "    <tr>\n",
       "      <th>4</th>\n",
       "      <td>False</td>\n",
       "      <td>False</td>\n",
       "      <td>False</td>\n",
       "      <td>False</td>\n",
       "      <td>False</td>\n",
       "      <td>False</td>\n",
       "      <td>False</td>\n",
       "      <td>False</td>\n",
       "      <td>False</td>\n",
       "      <td>False</td>\n",
       "      <td>False</td>\n",
       "      <td>False</td>\n",
       "      <td>False</td>\n",
       "      <td>False</td>\n",
       "    </tr>\n",
       "    <tr>\n",
       "      <th>...</th>\n",
       "      <td>...</td>\n",
       "      <td>...</td>\n",
       "      <td>...</td>\n",
       "      <td>...</td>\n",
       "      <td>...</td>\n",
       "      <td>...</td>\n",
       "      <td>...</td>\n",
       "      <td>...</td>\n",
       "      <td>...</td>\n",
       "      <td>...</td>\n",
       "      <td>...</td>\n",
       "      <td>...</td>\n",
       "      <td>...</td>\n",
       "      <td>...</td>\n",
       "    </tr>\n",
       "    <tr>\n",
       "      <th>71353</th>\n",
       "      <td>False</td>\n",
       "      <td>False</td>\n",
       "      <td>False</td>\n",
       "      <td>False</td>\n",
       "      <td>False</td>\n",
       "      <td>False</td>\n",
       "      <td>False</td>\n",
       "      <td>False</td>\n",
       "      <td>False</td>\n",
       "      <td>False</td>\n",
       "      <td>False</td>\n",
       "      <td>False</td>\n",
       "      <td>False</td>\n",
       "      <td>False</td>\n",
       "    </tr>\n",
       "    <tr>\n",
       "      <th>71354</th>\n",
       "      <td>False</td>\n",
       "      <td>False</td>\n",
       "      <td>False</td>\n",
       "      <td>False</td>\n",
       "      <td>False</td>\n",
       "      <td>False</td>\n",
       "      <td>False</td>\n",
       "      <td>False</td>\n",
       "      <td>False</td>\n",
       "      <td>False</td>\n",
       "      <td>False</td>\n",
       "      <td>False</td>\n",
       "      <td>False</td>\n",
       "      <td>False</td>\n",
       "    </tr>\n",
       "    <tr>\n",
       "      <th>71355</th>\n",
       "      <td>False</td>\n",
       "      <td>False</td>\n",
       "      <td>False</td>\n",
       "      <td>False</td>\n",
       "      <td>False</td>\n",
       "      <td>False</td>\n",
       "      <td>False</td>\n",
       "      <td>False</td>\n",
       "      <td>False</td>\n",
       "      <td>False</td>\n",
       "      <td>False</td>\n",
       "      <td>False</td>\n",
       "      <td>False</td>\n",
       "      <td>False</td>\n",
       "    </tr>\n",
       "    <tr>\n",
       "      <th>71356</th>\n",
       "      <td>False</td>\n",
       "      <td>False</td>\n",
       "      <td>False</td>\n",
       "      <td>False</td>\n",
       "      <td>False</td>\n",
       "      <td>False</td>\n",
       "      <td>False</td>\n",
       "      <td>False</td>\n",
       "      <td>False</td>\n",
       "      <td>False</td>\n",
       "      <td>False</td>\n",
       "      <td>False</td>\n",
       "      <td>False</td>\n",
       "      <td>False</td>\n",
       "    </tr>\n",
       "    <tr>\n",
       "      <th>71357</th>\n",
       "      <td>False</td>\n",
       "      <td>False</td>\n",
       "      <td>False</td>\n",
       "      <td>False</td>\n",
       "      <td>False</td>\n",
       "      <td>False</td>\n",
       "      <td>False</td>\n",
       "      <td>False</td>\n",
       "      <td>False</td>\n",
       "      <td>False</td>\n",
       "      <td>False</td>\n",
       "      <td>False</td>\n",
       "      <td>False</td>\n",
       "      <td>False</td>\n",
       "    </tr>\n",
       "  </tbody>\n",
       "</table>\n",
       "<p>71358 rows × 14 columns</p>\n",
       "</div>"
      ],
      "text/plain": [
       "       country_code  v1_family  v1_friends  v1_leisure  v1_politics  v1_work  \\\n",
       "0             False      False       False       False        False    False   \n",
       "1             False      False       False       False        False    False   \n",
       "2             False      False       False       False        False    False   \n",
       "3             False      False       False       False        False    False   \n",
       "4             False      False       False       False        False    False   \n",
       "...             ...        ...         ...         ...          ...      ...   \n",
       "71353         False      False       False       False        False    False   \n",
       "71354         False      False       False       False        False    False   \n",
       "71355         False      False       False       False        False    False   \n",
       "71356         False      False       False       False        False    False   \n",
       "71357         False      False       False       False        False    False   \n",
       "\n",
       "       v1_religion    sex  marital_status  education  income_levels  \\\n",
       "0            False  False           False      False          False   \n",
       "1            False  False           False      False          False   \n",
       "2            False  False           False      False          False   \n",
       "3            False  False           False      False          False   \n",
       "4            False  False           False      False          False   \n",
       "...            ...    ...             ...        ...            ...   \n",
       "71353        False  False           False      False          False   \n",
       "71354        False  False           False      False          False   \n",
       "71355        False  False           False      False          False   \n",
       "71356        False  False           False      False          False   \n",
       "71357        False  False           False      False          False   \n",
       "\n",
       "       response_id  country_name    GDP  \n",
       "0            False         False  False  \n",
       "1            False         False  False  \n",
       "2            False         False  False  \n",
       "3            False         False  False  \n",
       "4            False         False  False  \n",
       "...            ...           ...    ...  \n",
       "71353        False         False  False  \n",
       "71354        False         False  False  \n",
       "71355        False         False  False  \n",
       "71356        False         False  False  \n",
       "71357        False         False  False  \n",
       "\n",
       "[71358 rows x 14 columns]"
      ]
     },
     "execution_count": 27,
     "metadata": {},
     "output_type": "execute_result"
    }
   ],
   "source": [
    "# Detecting and Replacing Missing values\n",
    "\n",
    "df.isna()"
   ]
  },
  {
   "cell_type": "code",
   "execution_count": 28,
   "id": "aa30bd80",
   "metadata": {},
   "outputs": [
    {
     "data": {
      "text/plain": [
       "country_code      False\n",
       "v1_family         False\n",
       "v1_friends        False\n",
       "v1_leisure        False\n",
       "v1_politics       False\n",
       "v1_work           False\n",
       "v1_religion       False\n",
       "sex               False\n",
       "marital_status    False\n",
       "education         False\n",
       "income_levels     False\n",
       "response_id       False\n",
       "country_name      False\n",
       "GDP               False\n",
       "dtype: bool"
      ]
     },
     "execution_count": 28,
     "metadata": {},
     "output_type": "execute_result"
    }
   ],
   "source": [
    "df.isna().any()"
   ]
  },
  {
   "cell_type": "code",
   "execution_count": 29,
   "id": "1ac2ad29",
   "metadata": {},
   "outputs": [
    {
     "data": {
      "text/plain": [
       "<bound method DataFrame.fillna of       country_code       v1_family          v1_friends        v1_leisure  \\\n",
       "0               AD  Very important      Very important    Very important   \n",
       "1               AD  Very important      Very important    Very important   \n",
       "2               AD  Very important    Rather important  Rather important   \n",
       "3               AD  Very important      Very important    Very important   \n",
       "4               AD  Very important      Very important    Very important   \n",
       "...            ...             ...                 ...               ...   \n",
       "71353           ZW  Very important  Not very important    Very important   \n",
       "71354           ZW  Very important      Very important  Rather important   \n",
       "71355           ZW  Very important  Not very important  Rather important   \n",
       "71356           ZW  Very important    Rather important  Rather important   \n",
       "71357           ZW  Very important    Rather important  Rather important   \n",
       "\n",
       "                v1_politics             v1_work           v1_religion     sex  \\\n",
       "0        Not very important      Very important  Not at all important  Female   \n",
       "1      Not at all important      Very important  Not at all important    Male   \n",
       "2          Rather important  Not very important    Not very important    Male   \n",
       "3      Not at all important    Rather important  Not at all important  Female   \n",
       "4        Not very important      Very important    Not very important    Male   \n",
       "...                     ...                 ...                   ...     ...   \n",
       "71353        Very important      Very important      Rather important  Female   \n",
       "71354        Very important      Very important        Very important    Male   \n",
       "71355      Rather important    Rather important      Rather important  Female   \n",
       "71356        Very important      Very important        Very important  Female   \n",
       "71357      Rather important      Very important        Very important    Male   \n",
       "\n",
       "                   marital_status education income_levels  response_id  \\\n",
       "0                         Married    Middle        Medium            1   \n",
       "1      Living together as married     Upper          High            2   \n",
       "2                       Separated     Upper        Medium            3   \n",
       "3      Living together as married     Lower        Medium            4   \n",
       "4      Living together as married     Lower        Medium            5   \n",
       "...                           ...       ...           ...          ...   \n",
       "71353                     Married     Lower        Medium        72575   \n",
       "71354                     Married     Upper        Medium        72576   \n",
       "71355                     Married     Lower        Medium        72577   \n",
       "71356                     Married     Lower           Low        72578   \n",
       "71357                     Married     Lower           Low        72579   \n",
       "\n",
       "      country_name           GDP  \n",
       "0          Andorra   3155.065488  \n",
       "1          Andorra   3155.065488  \n",
       "2          Andorra   3155.065488  \n",
       "3          Andorra   3155.065488  \n",
       "4          Andorra   3155.065488  \n",
       "...            ...           ...  \n",
       "71353     Zimbabwe  16768.513443  \n",
       "71354     Zimbabwe  16768.513443  \n",
       "71355     Zimbabwe  16768.513443  \n",
       "71356     Zimbabwe  16768.513443  \n",
       "71357     Zimbabwe  16768.513443  \n",
       "\n",
       "[71358 rows x 14 columns]>"
      ]
     },
     "execution_count": 29,
     "metadata": {},
     "output_type": "execute_result"
    }
   ],
   "source": [
    "df.fillna"
   ]
  },
  {
   "cell_type": "code",
   "execution_count": 30,
   "id": "71ddda6f",
   "metadata": {},
   "outputs": [],
   "source": [
    "#Subsetting Zimbabwe and Germany\n",
    "\n",
    "df_zw = df[df[\"country_code\"]==\"ZW\"]\n",
    "df_de = df[df[\"country_code\"]==\"DE\"]"
   ]
  },
  {
   "cell_type": "code",
   "execution_count": 31,
   "id": "884aceaa",
   "metadata": {},
   "outputs": [
    {
     "name": "stdout",
     "output_type": "stream",
     "text": [
      "      country_code       v1_family            v1_friends          v1_leisure  \\\n",
      "70164           ZW  Very important    Not very important  Not very important   \n",
      "70165           ZW  Very important  Not at all important      Very important   \n",
      "70166           ZW  Very important    Not very important      Very important   \n",
      "70167           ZW  Very important      Rather important    Rather important   \n",
      "70168           ZW  Very important      Rather important      Very important   \n",
      "...            ...             ...                   ...                 ...   \n",
      "71353           ZW  Very important    Not very important      Very important   \n",
      "71354           ZW  Very important        Very important    Rather important   \n",
      "71355           ZW  Very important    Not very important    Rather important   \n",
      "71356           ZW  Very important      Rather important    Rather important   \n",
      "71357           ZW  Very important      Rather important    Rather important   \n",
      "\n",
      "                v1_politics           v1_work       v1_religion     sex  \\\n",
      "70164        Very important    Very important    Very important    Male   \n",
      "70165  Not at all important    Very important    Very important  Female   \n",
      "70166  Not at all important    Very important    Very important  Female   \n",
      "70167    Not very important    Very important  Rather important  Female   \n",
      "70168      Rather important    Very important  Rather important  Female   \n",
      "...                     ...               ...               ...     ...   \n",
      "71353        Very important    Very important  Rather important  Female   \n",
      "71354        Very important    Very important    Very important    Male   \n",
      "71355      Rather important  Rather important  Rather important  Female   \n",
      "71356        Very important    Very important    Very important  Female   \n",
      "71357      Rather important    Very important    Very important    Male   \n",
      "\n",
      "      marital_status education income_levels  response_id country_name  \\\n",
      "70164        Married    Middle           Low        71386     Zimbabwe   \n",
      "70165        Married     Upper          High        71387     Zimbabwe   \n",
      "70166        Married    Middle           Low        71388     Zimbabwe   \n",
      "70167        Married     Lower        Medium        71389     Zimbabwe   \n",
      "70168        Married    Middle        Medium        71390     Zimbabwe   \n",
      "...              ...       ...           ...          ...          ...   \n",
      "71353        Married     Lower        Medium        72575     Zimbabwe   \n",
      "71354        Married     Upper        Medium        72576     Zimbabwe   \n",
      "71355        Married     Lower        Medium        72577     Zimbabwe   \n",
      "71356        Married     Lower           Low        72578     Zimbabwe   \n",
      "71357        Married     Lower           Low        72579     Zimbabwe   \n",
      "\n",
      "                GDP  \n",
      "70164  16768.513443  \n",
      "70165  16768.513443  \n",
      "70166  16768.513443  \n",
      "70167  16768.513443  \n",
      "70168  16768.513443  \n",
      "...             ...  \n",
      "71353  16768.513443  \n",
      "71354  16768.513443  \n",
      "71355  16768.513443  \n",
      "71356  16768.513443  \n",
      "71357  16768.513443  \n",
      "\n",
      "[1194 rows x 14 columns]\n"
     ]
    }
   ],
   "source": [
    "print(df_zw)"
   ]
  },
  {
   "cell_type": "code",
   "execution_count": 32,
   "id": "4004b656",
   "metadata": {},
   "outputs": [],
   "source": [
    "# Indexing both the required data of Zimbabwe and Germany together\n",
    "\n",
    "df_index= df.set_index('country_name')\n",
    "df_index.loc[[\"Zimbabwe\",\"Germany\"]]\n",
    "df_main= df_index.loc[[\"Zimbabwe\",\"Germany\"]]"
   ]
  },
  {
   "cell_type": "code",
   "execution_count": 33,
   "id": "16114ad5",
   "metadata": {},
   "outputs": [
    {
     "data": {
      "text/html": [
       "<div>\n",
       "<style scoped>\n",
       "    .dataframe tbody tr th:only-of-type {\n",
       "        vertical-align: middle;\n",
       "    }\n",
       "\n",
       "    .dataframe tbody tr th {\n",
       "        vertical-align: top;\n",
       "    }\n",
       "\n",
       "    .dataframe thead th {\n",
       "        text-align: right;\n",
       "    }\n",
       "</style>\n",
       "<table border=\"1\" class=\"dataframe\">\n",
       "  <thead>\n",
       "    <tr style=\"text-align: right;\">\n",
       "      <th></th>\n",
       "      <th>country_code</th>\n",
       "      <th>v1_family</th>\n",
       "      <th>v1_friends</th>\n",
       "      <th>v1_leisure</th>\n",
       "      <th>v1_politics</th>\n",
       "      <th>v1_work</th>\n",
       "      <th>v1_religion</th>\n",
       "      <th>sex</th>\n",
       "      <th>marital_status</th>\n",
       "      <th>education</th>\n",
       "      <th>income_levels</th>\n",
       "      <th>response_id</th>\n",
       "      <th>GDP</th>\n",
       "    </tr>\n",
       "    <tr>\n",
       "      <th>country_name</th>\n",
       "      <th></th>\n",
       "      <th></th>\n",
       "      <th></th>\n",
       "      <th></th>\n",
       "      <th></th>\n",
       "      <th></th>\n",
       "      <th></th>\n",
       "      <th></th>\n",
       "      <th></th>\n",
       "      <th></th>\n",
       "      <th></th>\n",
       "      <th></th>\n",
       "      <th></th>\n",
       "    </tr>\n",
       "  </thead>\n",
       "  <tbody>\n",
       "    <tr>\n",
       "      <th>Germany</th>\n",
       "      <td>DE</td>\n",
       "      <td>Very important</td>\n",
       "      <td>Very important</td>\n",
       "      <td>Very important</td>\n",
       "      <td>Rather important</td>\n",
       "      <td>Very important</td>\n",
       "      <td>Not very important</td>\n",
       "      <td>Female</td>\n",
       "      <td>Single/Never married</td>\n",
       "      <td>Middle</td>\n",
       "      <td>Low</td>\n",
       "      <td>21837</td>\n",
       "      <td>3.806060e+06</td>\n",
       "    </tr>\n",
       "    <tr>\n",
       "      <th>Germany</th>\n",
       "      <td>DE</td>\n",
       "      <td>Very important</td>\n",
       "      <td>Rather important</td>\n",
       "      <td>Rather important</td>\n",
       "      <td>Rather important</td>\n",
       "      <td>Not at all important</td>\n",
       "      <td>Rather important</td>\n",
       "      <td>Female</td>\n",
       "      <td>Married</td>\n",
       "      <td>Middle</td>\n",
       "      <td>Medium</td>\n",
       "      <td>22269</td>\n",
       "      <td>3.806060e+06</td>\n",
       "    </tr>\n",
       "    <tr>\n",
       "      <th>Germany</th>\n",
       "      <td>DE</td>\n",
       "      <td>Very important</td>\n",
       "      <td>Very important</td>\n",
       "      <td>Rather important</td>\n",
       "      <td>Rather important</td>\n",
       "      <td>Rather important</td>\n",
       "      <td>Rather important</td>\n",
       "      <td>Female</td>\n",
       "      <td>Married</td>\n",
       "      <td>Middle</td>\n",
       "      <td>Medium</td>\n",
       "      <td>22270</td>\n",
       "      <td>3.806060e+06</td>\n",
       "    </tr>\n",
       "    <tr>\n",
       "      <th>Germany</th>\n",
       "      <td>DE</td>\n",
       "      <td>Rather important</td>\n",
       "      <td>Rather important</td>\n",
       "      <td>Rather important</td>\n",
       "      <td>Not very important</td>\n",
       "      <td>Rather important</td>\n",
       "      <td>Rather important</td>\n",
       "      <td>Male</td>\n",
       "      <td>Married</td>\n",
       "      <td>Middle</td>\n",
       "      <td>Medium</td>\n",
       "      <td>22271</td>\n",
       "      <td>3.806060e+06</td>\n",
       "    </tr>\n",
       "    <tr>\n",
       "      <th>Germany</th>\n",
       "      <td>DE</td>\n",
       "      <td>Very important</td>\n",
       "      <td>Rather important</td>\n",
       "      <td>Very important</td>\n",
       "      <td>Not very important</td>\n",
       "      <td>Rather important</td>\n",
       "      <td>Not at all important</td>\n",
       "      <td>Male</td>\n",
       "      <td>Married</td>\n",
       "      <td>Middle</td>\n",
       "      <td>Medium</td>\n",
       "      <td>22272</td>\n",
       "      <td>3.806060e+06</td>\n",
       "    </tr>\n",
       "    <tr>\n",
       "      <th>...</th>\n",
       "      <td>...</td>\n",
       "      <td>...</td>\n",
       "      <td>...</td>\n",
       "      <td>...</td>\n",
       "      <td>...</td>\n",
       "      <td>...</td>\n",
       "      <td>...</td>\n",
       "      <td>...</td>\n",
       "      <td>...</td>\n",
       "      <td>...</td>\n",
       "      <td>...</td>\n",
       "      <td>...</td>\n",
       "      <td>...</td>\n",
       "    </tr>\n",
       "    <tr>\n",
       "      <th>Zimbabwe</th>\n",
       "      <td>ZW</td>\n",
       "      <td>Very important</td>\n",
       "      <td>Very important</td>\n",
       "      <td>Rather important</td>\n",
       "      <td>Very important</td>\n",
       "      <td>Very important</td>\n",
       "      <td>Very important</td>\n",
       "      <td>Female</td>\n",
       "      <td>Separated</td>\n",
       "      <td>Middle</td>\n",
       "      <td>Low</td>\n",
       "      <td>72184</td>\n",
       "      <td>1.676851e+04</td>\n",
       "    </tr>\n",
       "    <tr>\n",
       "      <th>Zimbabwe</th>\n",
       "      <td>ZW</td>\n",
       "      <td>Very important</td>\n",
       "      <td>Very important</td>\n",
       "      <td>Very important</td>\n",
       "      <td>Very important</td>\n",
       "      <td>Very important</td>\n",
       "      <td>Very important</td>\n",
       "      <td>Female</td>\n",
       "      <td>Single/Never married</td>\n",
       "      <td>Middle</td>\n",
       "      <td>Medium</td>\n",
       "      <td>72185</td>\n",
       "      <td>1.676851e+04</td>\n",
       "    </tr>\n",
       "    <tr>\n",
       "      <th>Zimbabwe</th>\n",
       "      <td>ZW</td>\n",
       "      <td>Very important</td>\n",
       "      <td>Rather important</td>\n",
       "      <td>Very important</td>\n",
       "      <td>Rather important</td>\n",
       "      <td>Very important</td>\n",
       "      <td>Very important</td>\n",
       "      <td>Female</td>\n",
       "      <td>Widowed</td>\n",
       "      <td>Lower</td>\n",
       "      <td>Medium</td>\n",
       "      <td>72186</td>\n",
       "      <td>1.676851e+04</td>\n",
       "    </tr>\n",
       "    <tr>\n",
       "      <th>Zimbabwe</th>\n",
       "      <td>ZW</td>\n",
       "      <td>Very important</td>\n",
       "      <td>Rather important</td>\n",
       "      <td>Very important</td>\n",
       "      <td>Rather important</td>\n",
       "      <td>Very important</td>\n",
       "      <td>Very important</td>\n",
       "      <td>Male</td>\n",
       "      <td>Married</td>\n",
       "      <td>Lower</td>\n",
       "      <td>Medium</td>\n",
       "      <td>72188</td>\n",
       "      <td>1.676851e+04</td>\n",
       "    </tr>\n",
       "    <tr>\n",
       "      <th>Zimbabwe</th>\n",
       "      <td>ZW</td>\n",
       "      <td>Very important</td>\n",
       "      <td>Not very important</td>\n",
       "      <td>Not very important</td>\n",
       "      <td>Very important</td>\n",
       "      <td>Very important</td>\n",
       "      <td>Very important</td>\n",
       "      <td>Male</td>\n",
       "      <td>Married</td>\n",
       "      <td>Middle</td>\n",
       "      <td>Low</td>\n",
       "      <td>71386</td>\n",
       "      <td>1.676851e+04</td>\n",
       "    </tr>\n",
       "  </tbody>\n",
       "</table>\n",
       "<p>2616 rows × 13 columns</p>\n",
       "</div>"
      ],
      "text/plain": [
       "             country_code         v1_family          v1_friends  \\\n",
       "country_name                                                      \n",
       "Germany                DE    Very important      Very important   \n",
       "Germany                DE    Very important    Rather important   \n",
       "Germany                DE    Very important      Very important   \n",
       "Germany                DE  Rather important    Rather important   \n",
       "Germany                DE    Very important    Rather important   \n",
       "...                   ...               ...                 ...   \n",
       "Zimbabwe               ZW    Very important      Very important   \n",
       "Zimbabwe               ZW    Very important      Very important   \n",
       "Zimbabwe               ZW    Very important    Rather important   \n",
       "Zimbabwe               ZW    Very important    Rather important   \n",
       "Zimbabwe               ZW    Very important  Not very important   \n",
       "\n",
       "                      v1_leisure         v1_politics               v1_work  \\\n",
       "country_name                                                                 \n",
       "Germany           Very important    Rather important        Very important   \n",
       "Germany         Rather important    Rather important  Not at all important   \n",
       "Germany         Rather important    Rather important      Rather important   \n",
       "Germany         Rather important  Not very important      Rather important   \n",
       "Germany           Very important  Not very important      Rather important   \n",
       "...                          ...                 ...                   ...   \n",
       "Zimbabwe        Rather important      Very important        Very important   \n",
       "Zimbabwe          Very important      Very important        Very important   \n",
       "Zimbabwe          Very important    Rather important        Very important   \n",
       "Zimbabwe          Very important    Rather important        Very important   \n",
       "Zimbabwe      Not very important      Very important        Very important   \n",
       "\n",
       "                       v1_religion     sex        marital_status education  \\\n",
       "country_name                                                                 \n",
       "Germany         Not very important  Female  Single/Never married    Middle   \n",
       "Germany           Rather important  Female               Married    Middle   \n",
       "Germany           Rather important  Female               Married    Middle   \n",
       "Germany           Rather important    Male               Married    Middle   \n",
       "Germany       Not at all important    Male               Married    Middle   \n",
       "...                            ...     ...                   ...       ...   \n",
       "Zimbabwe            Very important  Female             Separated    Middle   \n",
       "Zimbabwe            Very important  Female  Single/Never married    Middle   \n",
       "Zimbabwe            Very important  Female               Widowed     Lower   \n",
       "Zimbabwe            Very important    Male               Married     Lower   \n",
       "Zimbabwe            Very important    Male               Married    Middle   \n",
       "\n",
       "             income_levels  response_id           GDP  \n",
       "country_name                                           \n",
       "Germany                Low        21837  3.806060e+06  \n",
       "Germany             Medium        22269  3.806060e+06  \n",
       "Germany             Medium        22270  3.806060e+06  \n",
       "Germany             Medium        22271  3.806060e+06  \n",
       "Germany             Medium        22272  3.806060e+06  \n",
       "...                    ...          ...           ...  \n",
       "Zimbabwe               Low        72184  1.676851e+04  \n",
       "Zimbabwe            Medium        72185  1.676851e+04  \n",
       "Zimbabwe            Medium        72186  1.676851e+04  \n",
       "Zimbabwe            Medium        72188  1.676851e+04  \n",
       "Zimbabwe               Low        71386  1.676851e+04  \n",
       "\n",
       "[2616 rows x 13 columns]"
      ]
     },
     "execution_count": 33,
     "metadata": {},
     "output_type": "execute_result"
    }
   ],
   "source": [
    "# Sorting the data\n",
    "\n",
    "df_main.sort_values(\"country_name\", ascending=True)"
   ]
  },
  {
   "cell_type": "code",
   "execution_count": 34,
   "id": "b745bee1",
   "metadata": {},
   "outputs": [],
   "source": [
    "#Insight 1\n",
    "#Germany GDP > Zimbabwe GDP\n",
    "# Germany is more developed than Zimbabwe\n",
    "#To check if work is more imp to respondents of Germany over Zimbabwe"
   ]
  },
  {
   "cell_type": "code",
   "execution_count": 35,
   "id": "db9e354b",
   "metadata": {},
   "outputs": [
    {
     "name": "stdout",
     "output_type": "stream",
     "text": [
      "Very important          608\n",
      "Rather important        597\n",
      "Not very important      117\n",
      "Not at all important    100\n",
      "Name: v1_work, dtype: int64\n"
     ]
    }
   ],
   "source": [
    "# Work value count and converting it into percentage (Germany)\n",
    "\n",
    "print(df_de.v1_work.value_counts())"
   ]
  },
  {
   "cell_type": "code",
   "execution_count": 36,
   "id": "9ed2d3b7",
   "metadata": {},
   "outputs": [
    {
     "name": "stdout",
     "output_type": "stream",
     "text": [
      "Very important          42.756681\n",
      "Rather important        41.983122\n",
      "Not very important       8.227848\n",
      "Not at all important     7.032349\n",
      "Name: v1_work, dtype: float64\n"
     ]
    }
   ],
   "source": [
    "#Converting the count to percentage\n",
    "\n",
    "print(df_de.v1_work.value_counts(normalize=True)*100)"
   ]
  },
  {
   "cell_type": "code",
   "execution_count": 37,
   "id": "9862b3f2",
   "metadata": {},
   "outputs": [
    {
     "name": "stdout",
     "output_type": "stream",
     "text": [
      "Very important          1054\n",
      "Rather important         126\n",
      "Not very important        11\n",
      "Not at all important       3\n",
      "Name: v1_work, dtype: int64\n"
     ]
    }
   ],
   "source": [
    "# Work value count and converting it into percentage (Zimbabwe)\n",
    "\n",
    "print(df_zw.v1_work.value_counts())"
   ]
  },
  {
   "cell_type": "code",
   "execution_count": 38,
   "id": "b70a155c",
   "metadata": {},
   "outputs": [
    {
     "name": "stdout",
     "output_type": "stream",
     "text": [
      "Very important          88.274707\n",
      "Rather important        10.552764\n",
      "Not very important       0.921273\n",
      "Not at all important     0.251256\n",
      "Name: v1_work, dtype: float64\n"
     ]
    }
   ],
   "source": [
    "#Converting the count to percentage\n",
    "\n",
    "print(df_zw.v1_work.value_counts(normalize=True)*100)"
   ]
  },
  {
   "cell_type": "code",
   "execution_count": 39,
   "id": "a18f0ff3",
   "metadata": {},
   "outputs": [
    {
     "name": "stdout",
     "output_type": "stream",
     "text": [
      "Very important          59.260349\n",
      "Rather important        30.147986\n",
      "Not very important       7.156871\n",
      "Not at all important     3.434794\n",
      "Name: v1_work, dtype: float64\n"
     ]
    }
   ],
   "source": [
    "# Percentage on work value of Germany & Zimbabwe\n",
    "\n",
    "print(df_index.v1_work.value_counts(normalize=True)*100)"
   ]
  },
  {
   "cell_type": "code",
   "execution_count": 40,
   "id": "90b37cf7",
   "metadata": {},
   "outputs": [],
   "source": [
    "# Results: 1. 42.8% of the respondents from Germany said work is very imp\n",
    "# 2. 88.3% of the respondents from Zimbabwe said work is very imp\n",
    "# 3. 59.3% of the respondents from both Zimbabwe and Germany said work is very imp\n",
    "# 4. Germany is a developed country with high GDP, but percentage of respondents who said work is imp is < Zimbabwe"
   ]
  },
  {
   "cell_type": "code",
   "execution_count": 41,
   "id": "5d30bec9",
   "metadata": {},
   "outputs": [],
   "source": [
    "# Insight 2\n",
    "# For the variables: Family, friends, work, leisure, politics & religion\n",
    "# Most imp variable to respondents of Germany (developed country) & Zimbabwe (developing country)"
   ]
  },
  {
   "cell_type": "code",
   "execution_count": 42,
   "id": "d4c12a11",
   "metadata": {},
   "outputs": [],
   "source": [
    "# Germany"
   ]
  },
  {
   "cell_type": "code",
   "execution_count": 43,
   "id": "12325434",
   "metadata": {},
   "outputs": [
    {
     "name": "stdout",
     "output_type": "stream",
     "text": [
      "Very important          88.326301\n",
      "Rather important        10.337553\n",
      "Not very important       1.195499\n",
      "Not at all important     0.140647\n",
      "Name: v1_family, dtype: float64\n"
     ]
    }
   ],
   "source": [
    "print(df_de.v1_family.value_counts(normalize=True)*100)"
   ]
  },
  {
   "cell_type": "code",
   "execution_count": 44,
   "id": "52c28bfa",
   "metadata": {},
   "outputs": [
    {
     "name": "stdout",
     "output_type": "stream",
     "text": [
      "Very important          59.845288\n",
      "Rather important        37.201125\n",
      "Not very important       2.812940\n",
      "Not at all important     0.140647\n",
      "Name: v1_friends, dtype: float64\n"
     ]
    }
   ],
   "source": [
    "print(df_de.v1_friends.value_counts(normalize=True)*100)"
   ]
  },
  {
   "cell_type": "code",
   "execution_count": 45,
   "id": "7ed3eaa9",
   "metadata": {},
   "outputs": [
    {
     "name": "stdout",
     "output_type": "stream",
     "text": [
      "Very important          42.756681\n",
      "Rather important        41.983122\n",
      "Not very important       8.227848\n",
      "Not at all important     7.032349\n",
      "Name: v1_work, dtype: float64\n"
     ]
    }
   ],
   "source": [
    "print(df_de.v1_work.value_counts(normalize=True)*100)"
   ]
  },
  {
   "cell_type": "code",
   "execution_count": 46,
   "id": "e3ddc342",
   "metadata": {},
   "outputs": [
    {
     "name": "stdout",
     "output_type": "stream",
     "text": [
      "Rather important        54.078762\n",
      "Very important          38.115331\n",
      "Not very important       7.454290\n",
      "Not at all important     0.351617\n",
      "Name: v1_leisure, dtype: float64\n"
     ]
    }
   ],
   "source": [
    "print(df_de.v1_leisure.value_counts(normalize=True)*100)"
   ]
  },
  {
   "cell_type": "code",
   "execution_count": 47,
   "id": "5442fe84",
   "metadata": {},
   "outputs": [
    {
     "name": "stdout",
     "output_type": "stream",
     "text": [
      "Not very important      35.724332\n",
      "Not at all important    26.090014\n",
      "Rather important        24.331927\n",
      "Very important          13.853727\n",
      "Name: v1_religion, dtype: float64\n"
     ]
    }
   ],
   "source": [
    "print(df_de.v1_religion.value_counts(normalize=True)*100)"
   ]
  },
  {
   "cell_type": "code",
   "execution_count": 48,
   "id": "ecb7acb0",
   "metadata": {},
   "outputs": [
    {
     "name": "stdout",
     "output_type": "stream",
     "text": [
      "Rather important        54.641350\n",
      "Not very important      25.035162\n",
      "Very important          15.611814\n",
      "Not at all important     4.711674\n",
      "Name: v1_politics, dtype: float64\n"
     ]
    }
   ],
   "source": [
    "print(df_de.v1_politics.value_counts(normalize=True)*100)"
   ]
  },
  {
   "cell_type": "code",
   "execution_count": 49,
   "id": "ff4785c9",
   "metadata": {},
   "outputs": [],
   "source": [
    "very_important_de = [88.33, 59.85, 42.76, 54.08, 35.72, 54.64]"
   ]
  },
  {
   "cell_type": "code",
   "execution_count": 50,
   "id": "a4f6da3c",
   "metadata": {},
   "outputs": [],
   "source": [
    "variables =[\"Family\", \"Friends\", \"Work\", \"Leisure\", \"Religion\", \"Politics\"]"
   ]
  },
  {
   "cell_type": "code",
   "execution_count": 51,
   "id": "04618e8b",
   "metadata": {},
   "outputs": [
    {
     "data": {
      "image/png": "[encoded data removed]",
      "text/plain": [
       "<Figure size 432x288 with 1 Axes>"
      ]
     },
     "metadata": {
      "needs_background": "light"
     },
     "output_type": "display_data"
    }
   ],
   "source": [
    "plt.bar(variables, very_important_de )\n",
    "plt.xlabel('Variables')\n",
    "plt.ylabel('% of respondents')\n",
    "plt.title('Factors important to people of Germany')\n",
    "plt.show()"
   ]
  },
  {
   "cell_type": "code",
   "execution_count": 52,
   "id": "4725a135",
   "metadata": {},
   "outputs": [],
   "source": [
    "# Zimbabwe"
   ]
  },
  {
   "cell_type": "code",
   "execution_count": 53,
   "id": "750cadb5",
   "metadata": {},
   "outputs": [
    {
     "name": "stdout",
     "output_type": "stream",
     "text": [
      "Very important        96.314908\n",
      "Rather important       3.517588\n",
      "Not very important     0.167504\n",
      "Name: v1_family, dtype: float64\n"
     ]
    }
   ],
   "source": [
    "print(df_zw.v1_family.value_counts(normalize=True)*100)"
   ]
  },
  {
   "cell_type": "code",
   "execution_count": 54,
   "id": "a8c07e2d",
   "metadata": {},
   "outputs": [
    {
     "name": "stdout",
     "output_type": "stream",
     "text": [
      "Rather important        47.989950\n",
      "Very important          30.150754\n",
      "Not very important      18.090452\n",
      "Not at all important     3.768844\n",
      "Name: v1_friends, dtype: float64\n"
     ]
    }
   ],
   "source": [
    "print(df_zw.v1_friends.value_counts(normalize=True)*100)"
   ]
  },
  {
   "cell_type": "code",
   "execution_count": 55,
   "id": "1bb1a5b6",
   "metadata": {},
   "outputs": [
    {
     "name": "stdout",
     "output_type": "stream",
     "text": [
      "Very important          88.274707\n",
      "Rather important        10.552764\n",
      "Not very important       0.921273\n",
      "Not at all important     0.251256\n",
      "Name: v1_work, dtype: float64\n"
     ]
    }
   ],
   "source": [
    "print(df_zw.v1_work.value_counts(normalize=True)*100)"
   ]
  },
  {
   "cell_type": "code",
   "execution_count": 56,
   "id": "18b46efb",
   "metadata": {},
   "outputs": [
    {
     "name": "stdout",
     "output_type": "stream",
     "text": [
      "Rather important        41.457286\n",
      "Very important          39.195980\n",
      "Not very important      15.996650\n",
      "Not at all important     3.350084\n",
      "Name: v1_leisure, dtype: float64\n"
     ]
    }
   ],
   "source": [
    "print(df_zw.v1_leisure.value_counts(normalize=True)*100)"
   ]
  },
  {
   "cell_type": "code",
   "execution_count": 57,
   "id": "bb16d53e",
   "metadata": {},
   "outputs": [
    {
     "name": "stdout",
     "output_type": "stream",
     "text": [
      "Very important          87.855946\n",
      "Rather important        10.636516\n",
      "Not very important       1.172529\n",
      "Not at all important     0.335008\n",
      "Name: v1_religion, dtype: float64\n"
     ]
    }
   ],
   "source": [
    "print(df_zw.v1_religion.value_counts(normalize=True)*100)"
   ]
  },
  {
   "cell_type": "code",
   "execution_count": 58,
   "id": "c7ebb1c2",
   "metadata": {},
   "outputs": [
    {
     "name": "stdout",
     "output_type": "stream",
     "text": [
      "Rather important        34.422111\n",
      "Very important          24.623116\n",
      "Not very important      22.445561\n",
      "Not at all important    18.509213\n",
      "Name: v1_politics, dtype: float64\n"
     ]
    }
   ],
   "source": [
    "print(df_zw.v1_politics.value_counts(normalize=True)*100)"
   ]
  },
  {
   "cell_type": "code",
   "execution_count": 59,
   "id": "8104b35a",
   "metadata": {},
   "outputs": [],
   "source": [
    "very_imp_zw = [96.31, 47.99, 88.27, 41.46, 87.86, 34.42]"
   ]
  },
  {
   "cell_type": "code",
   "execution_count": 60,
   "id": "9ceffe23",
   "metadata": {},
   "outputs": [
    {
     "data": {
      "image/png": "[encoded data removed]",
      "text/plain": [
       "<Figure size 432x288 with 1 Axes>"
      ]
     },
     "metadata": {
      "needs_background": "light"
     },
     "output_type": "display_data"
    }
   ],
   "source": [
    "plt.bar(variables, very_imp_zw )\n",
    "plt.xlabel('Variables')\n",
    "plt.ylabel('% of respondents')\n",
    "plt.title('Factors important to people of Zimbabwe')\n",
    "plt.show()"
   ]
  },
  {
   "cell_type": "code",
   "execution_count": 61,
   "id": "ac408bbf",
   "metadata": {},
   "outputs": [],
   "source": [
    "# Results: 1. For Germany, family is most important followed by friends and leisure\n",
    "# 2. Germany : We can note that, since politics is very imp, religion is not imp. These variables can have relation\n",
    "# 3. Zimbabwe: Family is the most imp followed by work and religion \n",
    "# 4. Zimbabwe: One reason why religion is very imp could be that family is also imp"
   ]
  },
  {
   "cell_type": "code",
   "execution_count": 62,
   "id": "fd0c7d71",
   "metadata": {},
   "outputs": [],
   "source": [
    "# Creating an indicator for both Zimbabwe and Germany as the variables are discrete\n",
    "\n",
    "df['ZW_indicator'] = 0"
   ]
  },
  {
   "cell_type": "code",
   "execution_count": 63,
   "id": "8be9a326",
   "metadata": {},
   "outputs": [],
   "source": [
    "df.loc[df['country_code'] == \"ZW\", 'ZW_indicator'] = 1"
   ]
  },
  {
   "cell_type": "code",
   "execution_count": 64,
   "id": "45f111b6",
   "metadata": {},
   "outputs": [],
   "source": [
    "df['DE_indicator'] = 0"
   ]
  },
  {
   "cell_type": "code",
   "execution_count": 65,
   "id": "2ea11072",
   "metadata": {},
   "outputs": [],
   "source": [
    "df.loc[df['country_code'] == \"DE\", 'DE_indicator'] = 1"
   ]
  },
  {
   "cell_type": "code",
   "execution_count": 66,
   "id": "951d78f1",
   "metadata": {},
   "outputs": [
    {
     "name": "stdout",
     "output_type": "stream",
     "text": [
      "0        0\n",
      "1        0\n",
      "2        0\n",
      "3        0\n",
      "4        0\n",
      "        ..\n",
      "71353    1\n",
      "71354    1\n",
      "71355    1\n",
      "71356    1\n",
      "71357    1\n",
      "Name: ZW_indicator, Length: 71358, dtype: int64\n"
     ]
    }
   ],
   "source": [
    "print(df.ZW_indicator)"
   ]
  },
  {
   "cell_type": "code",
   "execution_count": 67,
   "id": "851f30d8",
   "metadata": {},
   "outputs": [
    {
     "name": "stdout",
     "output_type": "stream",
     "text": [
      "0        0\n",
      "1        0\n",
      "2        0\n",
      "3        0\n",
      "4        0\n",
      "        ..\n",
      "71353    0\n",
      "71354    0\n",
      "71355    0\n",
      "71356    0\n",
      "71357    0\n",
      "Name: DE_indicator, Length: 71358, dtype: int64\n"
     ]
    }
   ],
   "source": [
    "print(df.DE_indicator)"
   ]
  },
  {
   "cell_type": "code",
   "execution_count": 68,
   "id": "5eef1905",
   "metadata": {},
   "outputs": [
    {
     "data": {
      "text/plain": [
       "country_code       object\n",
       "v1_family          object\n",
       "v1_friends         object\n",
       "v1_leisure         object\n",
       "v1_politics        object\n",
       "v1_work            object\n",
       "v1_religion        object\n",
       "sex                object\n",
       "marital_status     object\n",
       "education          object\n",
       "income_levels      object\n",
       "response_id         int64\n",
       "country_name       object\n",
       "GDP               float64\n",
       "ZW_indicator        int64\n",
       "DE_indicator        int64\n",
       "dtype: object"
      ]
     },
     "execution_count": 68,
     "metadata": {},
     "output_type": "execute_result"
    }
   ],
   "source": [
    "df.dtypes"
   ]
  },
  {
   "cell_type": "code",
   "execution_count": 69,
   "id": "c70473cd",
   "metadata": {},
   "outputs": [],
   "source": [
    "# Assigning values from below dictionary to the variable data as the current values are discrete\n",
    "\n",
    "cleanup_nums_fam = {\"v1_family\":     {\"Very important\": 1, \"Rather important\": 2, \"Not very important\": 3, \"Not at all important\": 4, }}"
   ]
  },
  {
   "cell_type": "code",
   "execution_count": 70,
   "id": "4e5d1507",
   "metadata": {},
   "outputs": [],
   "source": [
    "cleanup_nums_friends = {\"v1_friends\":     {\"Very important\": 1, \"Rather important\": 2, \"Not very important\": 3, \"Not at all important\": 4, }}"
   ]
  },
  {
   "cell_type": "code",
   "execution_count": 71,
   "id": "a32c88fe",
   "metadata": {},
   "outputs": [],
   "source": [
    "cleanup_nums_leisure = {\"v1_leisure\":     {\"Very important\": 1, \"Rather important\": 2, \"Not very important\": 3, \"Not at all important\": 4, }}"
   ]
  },
  {
   "cell_type": "code",
   "execution_count": 72,
   "id": "bfc67b93",
   "metadata": {},
   "outputs": [],
   "source": [
    "cleanup_nums_work = {\"v1_work\":     {\"Very important\": 1, \"Rather important\": 2, \"Not very important\": 3, \"Not at all important\": 4, }}"
   ]
  },
  {
   "cell_type": "code",
   "execution_count": 73,
   "id": "0f42a811",
   "metadata": {},
   "outputs": [],
   "source": [
    "cleanup_nums_politics = {\"v1_politics\":     {\"Very important\": 1, \"Rather important\": 2, \"Not very important\": 3, \"Not at all important\": 4, }}"
   ]
  },
  {
   "cell_type": "code",
   "execution_count": 74,
   "id": "f3829bfc",
   "metadata": {},
   "outputs": [],
   "source": [
    "cleanup_nums_religion = {\"v1_religion\":     {\"Very important\": 1, \"Rather important\": 2, \"Not very important\": 3, \"Not at all important\": 4, }}"
   ]
  },
  {
   "cell_type": "code",
   "execution_count": 75,
   "id": "f626fde5",
   "metadata": {},
   "outputs": [],
   "source": [
    "df = df.replace(cleanup_nums_fam)"
   ]
  },
  {
   "cell_type": "code",
   "execution_count": 76,
   "id": "5f0ea5bc",
   "metadata": {},
   "outputs": [],
   "source": [
    "df = df.replace(cleanup_nums_friends)"
   ]
  },
  {
   "cell_type": "code",
   "execution_count": 77,
   "id": "5f9ef46a",
   "metadata": {},
   "outputs": [],
   "source": [
    "df = df.replace(cleanup_nums_leisure)"
   ]
  },
  {
   "cell_type": "code",
   "execution_count": 78,
   "id": "7f287aff",
   "metadata": {},
   "outputs": [],
   "source": [
    "df = df.replace(cleanup_nums_work)"
   ]
  },
  {
   "cell_type": "code",
   "execution_count": 79,
   "id": "b33ab98b",
   "metadata": {},
   "outputs": [],
   "source": [
    "df = df.replace(cleanup_nums_politics)"
   ]
  },
  {
   "cell_type": "code",
   "execution_count": 80,
   "id": "8a775999",
   "metadata": {},
   "outputs": [],
   "source": [
    "df = df.replace(cleanup_nums_religion)"
   ]
  },
  {
   "cell_type": "code",
   "execution_count": 81,
   "id": "d5199f00",
   "metadata": {},
   "outputs": [
    {
     "name": "stdout",
     "output_type": "stream",
     "text": [
      "Very important          90.519633\n",
      "Rather important         8.503602\n",
      "Not very important       0.784775\n",
      "Not at all important     0.191990\n",
      "Name: v1_family, dtype: float64\n"
     ]
    }
   ],
   "source": [
    "# Work Value Percentage of data frame df\n",
    "\n",
    "print(df_index.v1_family.value_counts(normalize=True)*100)"
   ]
  },
  {
   "cell_type": "code",
   "execution_count": 82,
   "id": "2707c5db",
   "metadata": {},
   "outputs": [],
   "source": [
    "# Total of 90.5% respondents consider work very imp"
   ]
  },
  {
   "cell_type": "code",
   "execution_count": 83,
   "id": "501c7948",
   "metadata": {},
   "outputs": [],
   "source": [
    "# Insight 3\n",
    "# Analyse, respondents who said both family & friends are imp. Is leisure imp to them"
   ]
  },
  {
   "cell_type": "code",
   "execution_count": 84,
   "id": "acc66c7b",
   "metadata": {},
   "outputs": [],
   "source": [
    "# Loop and Conditional statements\n",
    "# The below coding is done o convert the data into continuous and this could be used to run regression model"
   ]
  },
  {
   "cell_type": "code",
   "execution_count": 85,
   "id": "110dc856",
   "metadata": {},
   "outputs": [],
   "source": [
    "df[\"v1_family_Very_Imp\"]=[ 1 if i<2 else 0 for i in df.v1_family] "
   ]
  },
  {
   "cell_type": "code",
   "execution_count": 86,
   "id": "a77c5738",
   "metadata": {},
   "outputs": [],
   "source": [
    "df[\"v1_family_Rath_Imp\"]=[ 1 if i<3 & i>1 else 0 for i in df.v1_family] "
   ]
  },
  {
   "cell_type": "code",
   "execution_count": 87,
   "id": "df52eed8",
   "metadata": {},
   "outputs": [],
   "source": [
    "df[\"v1_family_Not_Very_Imp\"]=[ 1 if i<4 & i>2 else 0 for i in df.v1_family] "
   ]
  },
  {
   "cell_type": "code",
   "execution_count": 88,
   "id": "136cb453",
   "metadata": {},
   "outputs": [],
   "source": [
    "df[\"v1_family_Not_at_all_Imp\"]=[ 1 if i>3 else 0 for i in df.v1_family] "
   ]
  },
  {
   "cell_type": "code",
   "execution_count": 89,
   "id": "6dd8e66c",
   "metadata": {},
   "outputs": [],
   "source": [
    "df[\"v1_friends_Very_Imp\"]=[ 1 if i<2 else 0 for i in df.v1_friends] "
   ]
  },
  {
   "cell_type": "code",
   "execution_count": 90,
   "id": "ca5901e3",
   "metadata": {},
   "outputs": [],
   "source": [
    "df[\"v1_friends_Rath_Imp\"]=[ 1 if i<3 & i>1 else 0 for i in df.v1_friends] "
   ]
  },
  {
   "cell_type": "code",
   "execution_count": 91,
   "id": "29b3b108",
   "metadata": {},
   "outputs": [],
   "source": [
    "df[\"v1_friends_Not_Very_Imp\"]=[ 1 if i<4 & i>2 else 0 for i in df.v1_friends] "
   ]
  },
  {
   "cell_type": "code",
   "execution_count": 92,
   "id": "b1a378fb",
   "metadata": {},
   "outputs": [],
   "source": [
    "df[\"v1_friends_Not_at_all_Imp\"]=[ 1 if i>3 else 0 for i in df.v1_friends] "
   ]
  },
  {
   "cell_type": "code",
   "execution_count": 93,
   "id": "5a86e9bd",
   "metadata": {},
   "outputs": [],
   "source": [
    "df[\"v1_leisure_Very_Imp\"]=[ 1 if i<2 else 0 for i in df.v1_leisure] "
   ]
  },
  {
   "cell_type": "code",
   "execution_count": 94,
   "id": "cdc562f7",
   "metadata": {},
   "outputs": [],
   "source": [
    "df[\"v1_leisure_Rath_Imp\"]=[ 1 if i<3 & i>1 else 0 for i in df.v1_leisure] "
   ]
  },
  {
   "cell_type": "code",
   "execution_count": 95,
   "id": "0d7ca9c4",
   "metadata": {},
   "outputs": [],
   "source": [
    "df[\"v1_leisure_Not_Very_Imp\"]=[ 1 if i<4 & i>2 else 0 for i in df.v1_leisure] "
   ]
  },
  {
   "cell_type": "code",
   "execution_count": 96,
   "id": "80507c64",
   "metadata": {},
   "outputs": [],
   "source": [
    "df[\"v1_leisure_Not_at_all_Imp\"]=[ 1 if i>3 else 0 for i in df.v1_leisure] "
   ]
  },
  {
   "cell_type": "code",
   "execution_count": 97,
   "id": "4a2fc27a",
   "metadata": {},
   "outputs": [],
   "source": [
    "df[\"v1_work_Very_Imp\"]=[ 1 if i<2 else 0 for i in df.v1_work]"
   ]
  },
  {
   "cell_type": "code",
   "execution_count": 98,
   "id": "c024591b",
   "metadata": {},
   "outputs": [],
   "source": [
    "df[\"v1_work_Rath_Imp\"]=[ 1 if i<3 & i>1 else 0 for i in df.v1_work] "
   ]
  },
  {
   "cell_type": "code",
   "execution_count": 99,
   "id": "cc556f52",
   "metadata": {},
   "outputs": [],
   "source": [
    "df[\"v1_work_Not_Very_Imp\"]=[ 1 if i<4 & i>2 else 0 for i in df.v1_work] "
   ]
  },
  {
   "cell_type": "code",
   "execution_count": 100,
   "id": "6ed6e8b3",
   "metadata": {},
   "outputs": [],
   "source": [
    "df[\"v1_work_Not_at_all_Imp\"]=[ 1 if i>3 else 0 for i in df.v1_work]"
   ]
  },
  {
   "cell_type": "code",
   "execution_count": 101,
   "id": "5f4145f8",
   "metadata": {},
   "outputs": [],
   "source": [
    "df[\"v1_politics_Very_Imp\"]=[ 1 if i<2 else 0 for i in df.v1_politics]"
   ]
  },
  {
   "cell_type": "code",
   "execution_count": 102,
   "id": "692d17fa",
   "metadata": {},
   "outputs": [],
   "source": [
    "df[\"v1_politics_Rath_Imp\"]=[ 1 if i<3 & i>1 else 0 for i in df.v1_politics]"
   ]
  },
  {
   "cell_type": "code",
   "execution_count": 103,
   "id": "ba47ae8b",
   "metadata": {},
   "outputs": [],
   "source": [
    "df[\"v1_politics_Not_Very_Imp\"]=[ 1 if i<4 & i>2 else 0 for i in df.v1_politics]"
   ]
  },
  {
   "cell_type": "code",
   "execution_count": 104,
   "id": "475af6da",
   "metadata": {},
   "outputs": [],
   "source": [
    "df[\"v1_politics_Not_at_all_Imp\"]=[ 1 if i>3 else 0 for i in df.v1_politics]"
   ]
  },
  {
   "cell_type": "code",
   "execution_count": 105,
   "id": "0afd905b",
   "metadata": {},
   "outputs": [],
   "source": [
    "df[\"v1_religion_Very_Imp\"]=[ 1 if i<2 else 0 for i in df.v1_religion]"
   ]
  },
  {
   "cell_type": "code",
   "execution_count": 106,
   "id": "5485c2be",
   "metadata": {},
   "outputs": [],
   "source": [
    "df[\"v1_religion_Rath_Imp\"]=[ 1 if i<3 & i>1 else 0 for i in df.v1_religion]"
   ]
  },
  {
   "cell_type": "code",
   "execution_count": 107,
   "id": "73ddf7bc",
   "metadata": {},
   "outputs": [],
   "source": [
    "df[\"v1_religion_Not_Very_Imp\"]=[ 1 if i<4 & i>2 else 0 for i in df.v1_religion]"
   ]
  },
  {
   "cell_type": "code",
   "execution_count": 108,
   "id": "ac0a34a3",
   "metadata": {},
   "outputs": [],
   "source": [
    "df[\"v1_religion_Not_at_all_Imp\"]=[ 1 if i>3 else 0 for i in df.v1_religion]"
   ]
  },
  {
   "cell_type": "code",
   "execution_count": 109,
   "id": "c462e414",
   "metadata": {},
   "outputs": [],
   "source": [
    "#Conditional Statement for all three family, friends & Leisure is very imp\n",
    "\n",
    "conditions = [\n",
    "    (df['v1_family_Very_Imp'] > 0) & (df['v1_friends_Very_Imp'] > 0) & (df['v1_leisure_Very_Imp']> 0)\n",
    "    ]"
   ]
  },
  {
   "cell_type": "code",
   "execution_count": 110,
   "id": "68b40449",
   "metadata": {},
   "outputs": [],
   "source": [
    "values=[1]"
   ]
  },
  {
   "cell_type": "code",
   "execution_count": 111,
   "id": "0bc7eb97",
   "metadata": {},
   "outputs": [],
   "source": [
    "# numpy function\n",
    "\n",
    "df['relation1'] = np.select(conditions, values)"
   ]
  },
  {
   "cell_type": "code",
   "execution_count": 112,
   "id": "0df554b9",
   "metadata": {},
   "outputs": [
    {
     "data": {
      "text/plain": [
       "0.22829955996524567"
      ]
     },
     "execution_count": 112,
     "metadata": {},
     "output_type": "execute_result"
    }
   ],
   "source": [
    "df[\"relation1\"].mean()"
   ]
  },
  {
   "cell_type": "code",
   "execution_count": 113,
   "id": "08553138",
   "metadata": {},
   "outputs": [],
   "source": [
    "#Conditional Statement for all three family, friends & Leisure is very imp and person is of Zimbabwe\n",
    "\n",
    "conditions = [\n",
    "    (df['v1_family_Very_Imp'] > 0) & (df['v1_friends_Very_Imp'] > 0) & (df['v1_leisure_Very_Imp']> 0) & (df['ZW_indicator'] >0)\n",
    "    ]"
   ]
  },
  {
   "cell_type": "code",
   "execution_count": 114,
   "id": "12ca65c9",
   "metadata": {},
   "outputs": [],
   "source": [
    "values=[1]"
   ]
  },
  {
   "cell_type": "code",
   "execution_count": 115,
   "id": "709c3125",
   "metadata": {},
   "outputs": [],
   "source": [
    "df['relation2'] = np.select(conditions, values)"
   ]
  },
  {
   "cell_type": "code",
   "execution_count": 116,
   "id": "75f67638",
   "metadata": {},
   "outputs": [
    {
     "data": {
      "text/plain": [
       "0.002564533759354242"
      ]
     },
     "execution_count": 116,
     "metadata": {},
     "output_type": "execute_result"
    }
   ],
   "source": [
    "df[\"relation2\"].mean()"
   ]
  },
  {
   "cell_type": "code",
   "execution_count": 117,
   "id": "3e80c938",
   "metadata": {},
   "outputs": [],
   "source": [
    "#Conditional Statement for all three family, friends & Leisure is very imp and person is of Germany\n",
    "\n",
    "conditions = [\n",
    "    (df['v1_family_Very_Imp'] > 0) & (df['v1_friends_Very_Imp'] > 0) & (df['v1_leisure_Very_Imp']> 0) & (df['DE_indicator'] >0)\n",
    "    ]"
   ]
  },
  {
   "cell_type": "code",
   "execution_count": 118,
   "id": "1f5bcfdc",
   "metadata": {},
   "outputs": [],
   "source": [
    "values=[1]"
   ]
  },
  {
   "cell_type": "code",
   "execution_count": 119,
   "id": "5b741df2",
   "metadata": {},
   "outputs": [],
   "source": [
    "df['relation3'] = np.select(conditions, values)"
   ]
  },
  {
   "cell_type": "code",
   "execution_count": 120,
   "id": "231357a4",
   "metadata": {},
   "outputs": [
    {
     "data": {
      "text/plain": [
       "0.005157095210067547"
      ]
     },
     "execution_count": 120,
     "metadata": {},
     "output_type": "execute_result"
    }
   ],
   "source": [
    "df[\"relation3\"].mean()"
   ]
  },
  {
   "cell_type": "code",
   "execution_count": 121,
   "id": "4979597e",
   "metadata": {},
   "outputs": [],
   "source": [
    "# Therefore, only 22.83% of respondents from all the countries said that if\n",
    "# 1. Family and friends are imp, leisure is also imp\n",
    "# 2. Whereas, only 0.26% of respondents from Zimbabwe said that all three are imp to them\n",
    "# 3. Only 0.52% of respondents from Germany said that all three are imp to them\n",
    "# 4. Germany being more developed they give importance to all of them above Zimbabwe (developing country)"
   ]
  },
  {
   "cell_type": "code",
   "execution_count": 122,
   "id": "b8dff820",
   "metadata": {},
   "outputs": [],
   "source": [
    "# Insight 4: Relationship between Work and Gender\n",
    "# Who gives more importance to work, men or women"
   ]
  },
  {
   "cell_type": "code",
   "execution_count": 123,
   "id": "2f488e19",
   "metadata": {},
   "outputs": [
    {
     "name": "stdout",
     "output_type": "stream",
     "text": [
      "0        Female\n",
      "1          Male\n",
      "2          Male\n",
      "3        Female\n",
      "4          Male\n",
      "          ...  \n",
      "71353    Female\n",
      "71354      Male\n",
      "71355    Female\n",
      "71356    Female\n",
      "71357      Male\n",
      "Name: sex, Length: 71358, dtype: object\n"
     ]
    }
   ],
   "source": [
    "print(df.sex)"
   ]
  },
  {
   "cell_type": "code",
   "execution_count": 124,
   "id": "48321518",
   "metadata": {},
   "outputs": [],
   "source": [
    "# Creating indicators for gender\n",
    "\n",
    "df['male_indicator'] = 0"
   ]
  },
  {
   "cell_type": "code",
   "execution_count": 125,
   "id": "8ea20809",
   "metadata": {},
   "outputs": [],
   "source": [
    "df.loc[df['sex'] == 'Male', 'male_indicator'] = 1"
   ]
  },
  {
   "cell_type": "code",
   "execution_count": 126,
   "id": "94f924b4",
   "metadata": {},
   "outputs": [
    {
     "name": "stdout",
     "output_type": "stream",
     "text": [
      "0        0\n",
      "1        1\n",
      "2        1\n",
      "3        0\n",
      "4        1\n",
      "        ..\n",
      "71353    0\n",
      "71354    1\n",
      "71355    0\n",
      "71356    0\n",
      "71357    1\n",
      "Name: male_indicator, Length: 71358, dtype: int64\n"
     ]
    }
   ],
   "source": [
    "print(df.male_indicator)"
   ]
  },
  {
   "cell_type": "code",
   "execution_count": 127,
   "id": "0b3cbb41",
   "metadata": {},
   "outputs": [],
   "source": [
    "df['female_indicator'] = 0"
   ]
  },
  {
   "cell_type": "code",
   "execution_count": 128,
   "id": "b3320d15",
   "metadata": {},
   "outputs": [],
   "source": [
    "df.loc[df['sex'] == 'Female', 'female_indicator'] = 1"
   ]
  },
  {
   "cell_type": "code",
   "execution_count": 129,
   "id": "07eada5c",
   "metadata": {},
   "outputs": [
    {
     "name": "stdout",
     "output_type": "stream",
     "text": [
      "0        1\n",
      "1        0\n",
      "2        0\n",
      "3        1\n",
      "4        0\n",
      "        ..\n",
      "71353    1\n",
      "71354    0\n",
      "71355    1\n",
      "71356    1\n",
      "71357    0\n",
      "Name: female_indicator, Length: 71358, dtype: int64\n"
     ]
    }
   ],
   "source": [
    "print(df.female_indicator)"
   ]
  },
  {
   "cell_type": "code",
   "execution_count": 130,
   "id": "382fd193",
   "metadata": {},
   "outputs": [],
   "source": [
    "conditions = [\n",
    "    (df['v1_work_Very_Imp'] > 0) & (df['male_indicator'] > 0) \n",
    "    ]"
   ]
  },
  {
   "cell_type": "code",
   "execution_count": 131,
   "id": "4d92ab62",
   "metadata": {},
   "outputs": [],
   "source": [
    "values = [1]"
   ]
  },
  {
   "cell_type": "code",
   "execution_count": 132,
   "id": "2f1ca7a1",
   "metadata": {},
   "outputs": [],
   "source": [
    "df['relation4'] = np.select(conditions, values)"
   ]
  },
  {
   "cell_type": "code",
   "execution_count": 133,
   "id": "286a2992",
   "metadata": {},
   "outputs": [
    {
     "data": {
      "text/plain": [
       "0.2978923176097985"
      ]
     },
     "execution_count": 133,
     "metadata": {},
     "output_type": "execute_result"
    }
   ],
   "source": [
    "df[\"relation4\"].mean()"
   ]
  },
  {
   "cell_type": "code",
   "execution_count": 134,
   "id": "31b06613",
   "metadata": {},
   "outputs": [],
   "source": [
    "conditions = [\n",
    "    (df['v1_work_Very_Imp'] > 0) & (df['female_indicator'] > 0) \n",
    "    ]"
   ]
  },
  {
   "cell_type": "code",
   "execution_count": 135,
   "id": "7289eab6",
   "metadata": {},
   "outputs": [],
   "source": [
    "values=[1]"
   ]
  },
  {
   "cell_type": "code",
   "execution_count": 136,
   "id": "64309b2c",
   "metadata": {},
   "outputs": [],
   "source": [
    "df['relation5'] = np.select(conditions, values)"
   ]
  },
  {
   "cell_type": "code",
   "execution_count": 137,
   "id": "be9aa6b4",
   "metadata": {},
   "outputs": [
    {
     "data": {
      "text/plain": [
       "0.2946411054121472"
      ]
     },
     "execution_count": 137,
     "metadata": {},
     "output_type": "execute_result"
    }
   ],
   "source": [
    "df[\"relation5\"].mean()"
   ]
  },
  {
   "cell_type": "code",
   "execution_count": 138,
   "id": "34949fef",
   "metadata": {},
   "outputs": [],
   "source": [
    "# Out of the respondents the average number saying work is very important to them is almost same for both men & women"
   ]
  },
  {
   "cell_type": "code",
   "execution_count": 139,
   "id": "07f87dcf",
   "metadata": {},
   "outputs": [],
   "source": [
    "# Insight 5 : Is there any relationship between sex and religion\n",
    "# does women give more importance to religion over men"
   ]
  },
  {
   "cell_type": "code",
   "execution_count": 140,
   "id": "2fe471f9",
   "metadata": {},
   "outputs": [],
   "source": [
    "conditions = [\n",
    "    (df['v1_religion_Very_Imp'] > 0) & (df['male_indicator'] > 0) \n",
    "    ]"
   ]
  },
  {
   "cell_type": "code",
   "execution_count": 141,
   "id": "1d6353a3",
   "metadata": {},
   "outputs": [],
   "source": [
    "values=[1]"
   ]
  },
  {
   "cell_type": "code",
   "execution_count": 142,
   "id": "2c11d4a5",
   "metadata": {},
   "outputs": [],
   "source": [
    "df['relation6'] = np.select(conditions, values)"
   ]
  },
  {
   "cell_type": "code",
   "execution_count": 143,
   "id": "1010ad97",
   "metadata": {},
   "outputs": [
    {
     "data": {
      "text/plain": [
       "0.22429160010089969"
      ]
     },
     "execution_count": 143,
     "metadata": {},
     "output_type": "execute_result"
    }
   ],
   "source": [
    "df[\"relation6\"].mean()"
   ]
  },
  {
   "cell_type": "code",
   "execution_count": 144,
   "id": "eb58855e",
   "metadata": {},
   "outputs": [],
   "source": [
    "conditions = [\n",
    "    (df['v1_religion_Very_Imp'] > 0) & (df['female_indicator'] > 0) \n",
    "    ]"
   ]
  },
  {
   "cell_type": "code",
   "execution_count": 145,
   "id": "c1fd773f",
   "metadata": {},
   "outputs": [],
   "source": [
    "values=[1]"
   ]
  },
  {
   "cell_type": "code",
   "execution_count": 146,
   "id": "2511c543",
   "metadata": {},
   "outputs": [],
   "source": [
    "df['relation7'] = np.select(conditions, values)"
   ]
  },
  {
   "cell_type": "code",
   "execution_count": 147,
   "id": "4c44f3da",
   "metadata": {},
   "outputs": [
    {
     "data": {
      "text/plain": [
       "0.25929818660836906"
      ]
     },
     "execution_count": 147,
     "metadata": {},
     "output_type": "execute_result"
    }
   ],
   "source": [
    "df[\"relation7\"].mean()"
   ]
  },
  {
   "cell_type": "code",
   "execution_count": 148,
   "id": "cb3409a6",
   "metadata": {},
   "outputs": [],
   "source": [
    "# Therefore we can see that by a small % of around 3.5, women considers religion more important that men"
   ]
  },
  {
   "cell_type": "code",
   "execution_count": 149,
   "id": "09a70227",
   "metadata": {},
   "outputs": [],
   "source": [
    "# Insight 6: Relationship between Work and GDP"
   ]
  },
  {
   "cell_type": "code",
   "execution_count": 150,
   "id": "7eb94da2",
   "metadata": {},
   "outputs": [
    {
     "data": {
      "text/plain": [
       "<matplotlib.collections.PathCollection at 0x7fa75e2ab790>"
      ]
     },
     "execution_count": 150,
     "metadata": {},
     "output_type": "execute_result"
    },
    {
     "data": {
      "image/png": "[encoded data removed]",
      "text/plain": [
       "<Figure size 432x288 with 1 Axes>"
      ]
     },
     "metadata": {
      "needs_background": "light"
     },
     "output_type": "display_data"
    }
   ],
   "source": [
    "plt.scatter(df.GDP, df.v1_work_Very_Imp, cmap='rainbow')"
   ]
  },
  {
   "cell_type": "code",
   "execution_count": 151,
   "id": "48ba3d49",
   "metadata": {},
   "outputs": [],
   "source": [
    "%matplotlib inline"
   ]
  },
  {
   "cell_type": "code",
   "execution_count": 152,
   "id": "15f99b79",
   "metadata": {},
   "outputs": [],
   "source": [
    "df4 = df[['v1_work_Very_Imp', 'country_code', 'GDP']]"
   ]
  },
  {
   "cell_type": "code",
   "execution_count": 153,
   "id": "3b672b82",
   "metadata": {},
   "outputs": [
    {
     "name": "stdout",
     "output_type": "stream",
     "text": [
      "       v1_work_Very_Imp country_code           GDP\n",
      "0                     1           AD   3155.065488\n",
      "1                     1           AD   3155.065488\n",
      "2                     0           AD   3155.065488\n",
      "3                     0           AD   3155.065488\n",
      "4                     1           AD   3155.065488\n",
      "...                 ...          ...           ...\n",
      "71353                 1           ZW  16768.513443\n",
      "71354                 1           ZW  16768.513443\n",
      "71355                 0           ZW  16768.513443\n",
      "71356                 1           ZW  16768.513443\n",
      "71357                 1           ZW  16768.513443\n",
      "\n",
      "[71358 rows x 3 columns]\n"
     ]
    }
   ],
   "source": [
    "print(df4)"
   ]
  },
  {
   "cell_type": "code",
   "execution_count": 154,
   "id": "4847bad4",
   "metadata": {},
   "outputs": [],
   "source": [
    "df5=df4.groupby(['country_code']).mean()"
   ]
  },
  {
   "cell_type": "code",
   "execution_count": 155,
   "id": "4fbddef9",
   "metadata": {},
   "outputs": [
    {
     "name": "stdout",
     "output_type": "stream",
     "text": [
      "              v1_work_Very_Imp           GDP\n",
      "country_code                                \n",
      "AD                    0.570776  3.155065e+03\n",
      "AR                    0.620172  3.830670e+05\n",
      "AU                    0.311721  1.330901e+06\n",
      "BD                    0.797918  3.242392e+05\n",
      "BO                    0.767228  3.668886e+04\n",
      "BR                    0.609880  1.444733e+06\n",
      "CA                    0.328496  1.643408e+06\n",
      "CL                    0.528814  2.529400e+05\n",
      "CN                    0.432534  1.472273e+07\n",
      "CO                    0.724967  2.713469e+05\n",
      "CY                    0.527650  2.380434e+04\n",
      "DE                    0.427567  3.806060e+06\n",
      "EC                    0.783434  9.880801e+04\n",
      "EG                    0.741348  3.630692e+05\n",
      "ET                    0.908787  1.076451e+05\n",
      "GR                    0.701408  1.894101e+05\n",
      "GT                    0.600354  7.760463e+04\n",
      "HK                    0.306601  3.465859e+05\n",
      "ID                    0.932020  1.058424e+06\n",
      "IQ                    0.808090  1.672244e+05\n",
      "IR                    0.780672  1.917183e+05\n",
      "JO                    0.746556  4.369766e+04\n",
      "JP                    0.402321  5.064873e+06\n",
      "KG                    0.552110  7.735977e+03\n",
      "KR                    0.426506  1.630525e+06\n",
      "KZ                    0.501795  1.698354e+05\n",
      "LB                    0.727197  3.338325e+04\n",
      "MM                    0.770451  7.618559e+04\n",
      "MO                    0.293388  5.515371e+04\n",
      "MX                    0.796710  1.076163e+06\n",
      "MY                    0.546078  3.366644e+05\n",
      "NG                    0.863905  4.322938e+05\n",
      "NI                    0.689741  1.262148e+04\n",
      "NZ                    0.306616  2.124820e+05\n",
      "PE                    0.707533  2.020144e+05\n",
      "PH                    0.927258  3.614894e+05\n",
      "PK                    0.635667  2.636866e+05\n",
      "PR                    0.708372  1.031383e+05\n",
      "RO                    0.451702  2.487156e+05\n",
      "RS                    0.480506  5.296013e+04\n",
      "RU                    0.411980  1.483498e+06\n",
      "SG                    0.363542  3.399985e+05\n",
      "TH                    0.561644  5.017950e+05\n",
      "TJ                    0.577796  8.194150e+03\n",
      "TN                    0.836522  3.923567e+04\n",
      "TR                    0.458206  7.201012e+05\n",
      "UA                    0.405431  1.555820e+05\n",
      "US                    0.376566  2.093660e+07\n",
      "VN                    0.699167  2.711584e+05\n",
      "ZW                    0.882747  1.676851e+04\n"
     ]
    }
   ],
   "source": [
    "print(df5)"
   ]
  },
  {
   "cell_type": "code",
   "execution_count": 156,
   "id": "b231ecf2",
   "metadata": {},
   "outputs": [
    {
     "data": {
      "image/png": "[encoded data removed]",
      "text/plain": [
       "<Figure size 432x288 with 1 Axes>"
      ]
     },
     "metadata": {
      "needs_background": "light"
     },
     "output_type": "display_data"
    }
   ],
   "source": [
    "sns.regplot(x=\"GDP\", y=\"v1_work_Very_Imp\", data=df5);"
   ]
  },
  {
   "cell_type": "code",
   "execution_count": 157,
   "id": "1150eb95",
   "metadata": {},
   "outputs": [
    {
     "data": {
      "image/png": "[encoded data removed]",
      "text/plain": [
       "<Figure size 360x360 with 1 Axes>"
      ]
     },
     "metadata": {
      "needs_background": "light"
     },
     "output_type": "display_data"
    }
   ],
   "source": [
    "sns.lmplot(x=\"GDP\", y=\"v1_work_Very_Imp\", data=df5);\n"
   ]
  },
  {
   "cell_type": "code",
   "execution_count": 158,
   "id": "ff2fec55",
   "metadata": {},
   "outputs": [
    {
     "data": {
      "text/html": [
       "<div>\n",
       "<style scoped>\n",
       "    .dataframe tbody tr th:only-of-type {\n",
       "        vertical-align: middle;\n",
       "    }\n",
       "\n",
       "    .dataframe tbody tr th {\n",
       "        vertical-align: top;\n",
       "    }\n",
       "\n",
       "    .dataframe thead th {\n",
       "        text-align: right;\n",
       "    }\n",
       "</style>\n",
       "<table border=\"1\" class=\"dataframe\">\n",
       "  <thead>\n",
       "    <tr style=\"text-align: right;\">\n",
       "      <th></th>\n",
       "      <th>country_code</th>\n",
       "      <th>v1_family</th>\n",
       "      <th>v1_friends</th>\n",
       "      <th>v1_leisure</th>\n",
       "      <th>v1_politics</th>\n",
       "      <th>v1_work</th>\n",
       "      <th>v1_religion</th>\n",
       "      <th>sex</th>\n",
       "      <th>marital_status</th>\n",
       "      <th>education</th>\n",
       "      <th>...</th>\n",
       "      <th>v1_religion_Not_at_all_Imp</th>\n",
       "      <th>relation1</th>\n",
       "      <th>relation2</th>\n",
       "      <th>relation3</th>\n",
       "      <th>male_indicator</th>\n",
       "      <th>female_indicator</th>\n",
       "      <th>relation4</th>\n",
       "      <th>relation5</th>\n",
       "      <th>relation6</th>\n",
       "      <th>relation7</th>\n",
       "    </tr>\n",
       "  </thead>\n",
       "  <tbody>\n",
       "    <tr>\n",
       "      <th>0</th>\n",
       "      <td>AD</td>\n",
       "      <td>1</td>\n",
       "      <td>1</td>\n",
       "      <td>1</td>\n",
       "      <td>3</td>\n",
       "      <td>1</td>\n",
       "      <td>4</td>\n",
       "      <td>Female</td>\n",
       "      <td>Married</td>\n",
       "      <td>Middle</td>\n",
       "      <td>...</td>\n",
       "      <td>1</td>\n",
       "      <td>1</td>\n",
       "      <td>0</td>\n",
       "      <td>0</td>\n",
       "      <td>0</td>\n",
       "      <td>1</td>\n",
       "      <td>0</td>\n",
       "      <td>1</td>\n",
       "      <td>0</td>\n",
       "      <td>0</td>\n",
       "    </tr>\n",
       "    <tr>\n",
       "      <th>1</th>\n",
       "      <td>AD</td>\n",
       "      <td>1</td>\n",
       "      <td>1</td>\n",
       "      <td>1</td>\n",
       "      <td>4</td>\n",
       "      <td>1</td>\n",
       "      <td>4</td>\n",
       "      <td>Male</td>\n",
       "      <td>Living together as married</td>\n",
       "      <td>Upper</td>\n",
       "      <td>...</td>\n",
       "      <td>1</td>\n",
       "      <td>1</td>\n",
       "      <td>0</td>\n",
       "      <td>0</td>\n",
       "      <td>1</td>\n",
       "      <td>0</td>\n",
       "      <td>1</td>\n",
       "      <td>0</td>\n",
       "      <td>0</td>\n",
       "      <td>0</td>\n",
       "    </tr>\n",
       "    <tr>\n",
       "      <th>2</th>\n",
       "      <td>AD</td>\n",
       "      <td>1</td>\n",
       "      <td>2</td>\n",
       "      <td>2</td>\n",
       "      <td>2</td>\n",
       "      <td>3</td>\n",
       "      <td>3</td>\n",
       "      <td>Male</td>\n",
       "      <td>Separated</td>\n",
       "      <td>Upper</td>\n",
       "      <td>...</td>\n",
       "      <td>0</td>\n",
       "      <td>0</td>\n",
       "      <td>0</td>\n",
       "      <td>0</td>\n",
       "      <td>1</td>\n",
       "      <td>0</td>\n",
       "      <td>0</td>\n",
       "      <td>0</td>\n",
       "      <td>0</td>\n",
       "      <td>0</td>\n",
       "    </tr>\n",
       "    <tr>\n",
       "      <th>3</th>\n",
       "      <td>AD</td>\n",
       "      <td>1</td>\n",
       "      <td>1</td>\n",
       "      <td>1</td>\n",
       "      <td>4</td>\n",
       "      <td>2</td>\n",
       "      <td>4</td>\n",
       "      <td>Female</td>\n",
       "      <td>Living together as married</td>\n",
       "      <td>Lower</td>\n",
       "      <td>...</td>\n",
       "      <td>1</td>\n",
       "      <td>1</td>\n",
       "      <td>0</td>\n",
       "      <td>0</td>\n",
       "      <td>0</td>\n",
       "      <td>1</td>\n",
       "      <td>0</td>\n",
       "      <td>0</td>\n",
       "      <td>0</td>\n",
       "      <td>0</td>\n",
       "    </tr>\n",
       "    <tr>\n",
       "      <th>4</th>\n",
       "      <td>AD</td>\n",
       "      <td>1</td>\n",
       "      <td>1</td>\n",
       "      <td>1</td>\n",
       "      <td>3</td>\n",
       "      <td>1</td>\n",
       "      <td>3</td>\n",
       "      <td>Male</td>\n",
       "      <td>Living together as married</td>\n",
       "      <td>Lower</td>\n",
       "      <td>...</td>\n",
       "      <td>0</td>\n",
       "      <td>1</td>\n",
       "      <td>0</td>\n",
       "      <td>0</td>\n",
       "      <td>1</td>\n",
       "      <td>0</td>\n",
       "      <td>1</td>\n",
       "      <td>0</td>\n",
       "      <td>0</td>\n",
       "      <td>0</td>\n",
       "    </tr>\n",
       "    <tr>\n",
       "      <th>...</th>\n",
       "      <td>...</td>\n",
       "      <td>...</td>\n",
       "      <td>...</td>\n",
       "      <td>...</td>\n",
       "      <td>...</td>\n",
       "      <td>...</td>\n",
       "      <td>...</td>\n",
       "      <td>...</td>\n",
       "      <td>...</td>\n",
       "      <td>...</td>\n",
       "      <td>...</td>\n",
       "      <td>...</td>\n",
       "      <td>...</td>\n",
       "      <td>...</td>\n",
       "      <td>...</td>\n",
       "      <td>...</td>\n",
       "      <td>...</td>\n",
       "      <td>...</td>\n",
       "      <td>...</td>\n",
       "      <td>...</td>\n",
       "      <td>...</td>\n",
       "    </tr>\n",
       "    <tr>\n",
       "      <th>71353</th>\n",
       "      <td>ZW</td>\n",
       "      <td>1</td>\n",
       "      <td>3</td>\n",
       "      <td>1</td>\n",
       "      <td>1</td>\n",
       "      <td>1</td>\n",
       "      <td>2</td>\n",
       "      <td>Female</td>\n",
       "      <td>Married</td>\n",
       "      <td>Lower</td>\n",
       "      <td>...</td>\n",
       "      <td>0</td>\n",
       "      <td>0</td>\n",
       "      <td>0</td>\n",
       "      <td>0</td>\n",
       "      <td>0</td>\n",
       "      <td>1</td>\n",
       "      <td>0</td>\n",
       "      <td>1</td>\n",
       "      <td>0</td>\n",
       "      <td>0</td>\n",
       "    </tr>\n",
       "    <tr>\n",
       "      <th>71354</th>\n",
       "      <td>ZW</td>\n",
       "      <td>1</td>\n",
       "      <td>1</td>\n",
       "      <td>2</td>\n",
       "      <td>1</td>\n",
       "      <td>1</td>\n",
       "      <td>1</td>\n",
       "      <td>Male</td>\n",
       "      <td>Married</td>\n",
       "      <td>Upper</td>\n",
       "      <td>...</td>\n",
       "      <td>0</td>\n",
       "      <td>0</td>\n",
       "      <td>0</td>\n",
       "      <td>0</td>\n",
       "      <td>1</td>\n",
       "      <td>0</td>\n",
       "      <td>1</td>\n",
       "      <td>0</td>\n",
       "      <td>1</td>\n",
       "      <td>0</td>\n",
       "    </tr>\n",
       "    <tr>\n",
       "      <th>71355</th>\n",
       "      <td>ZW</td>\n",
       "      <td>1</td>\n",
       "      <td>3</td>\n",
       "      <td>2</td>\n",
       "      <td>2</td>\n",
       "      <td>2</td>\n",
       "      <td>2</td>\n",
       "      <td>Female</td>\n",
       "      <td>Married</td>\n",
       "      <td>Lower</td>\n",
       "      <td>...</td>\n",
       "      <td>0</td>\n",
       "      <td>0</td>\n",
       "      <td>0</td>\n",
       "      <td>0</td>\n",
       "      <td>0</td>\n",
       "      <td>1</td>\n",
       "      <td>0</td>\n",
       "      <td>0</td>\n",
       "      <td>0</td>\n",
       "      <td>0</td>\n",
       "    </tr>\n",
       "    <tr>\n",
       "      <th>71356</th>\n",
       "      <td>ZW</td>\n",
       "      <td>1</td>\n",
       "      <td>2</td>\n",
       "      <td>2</td>\n",
       "      <td>1</td>\n",
       "      <td>1</td>\n",
       "      <td>1</td>\n",
       "      <td>Female</td>\n",
       "      <td>Married</td>\n",
       "      <td>Lower</td>\n",
       "      <td>...</td>\n",
       "      <td>0</td>\n",
       "      <td>0</td>\n",
       "      <td>0</td>\n",
       "      <td>0</td>\n",
       "      <td>0</td>\n",
       "      <td>1</td>\n",
       "      <td>0</td>\n",
       "      <td>1</td>\n",
       "      <td>0</td>\n",
       "      <td>1</td>\n",
       "    </tr>\n",
       "    <tr>\n",
       "      <th>71357</th>\n",
       "      <td>ZW</td>\n",
       "      <td>1</td>\n",
       "      <td>2</td>\n",
       "      <td>2</td>\n",
       "      <td>2</td>\n",
       "      <td>1</td>\n",
       "      <td>1</td>\n",
       "      <td>Male</td>\n",
       "      <td>Married</td>\n",
       "      <td>Lower</td>\n",
       "      <td>...</td>\n",
       "      <td>0</td>\n",
       "      <td>0</td>\n",
       "      <td>0</td>\n",
       "      <td>0</td>\n",
       "      <td>1</td>\n",
       "      <td>0</td>\n",
       "      <td>1</td>\n",
       "      <td>0</td>\n",
       "      <td>1</td>\n",
       "      <td>0</td>\n",
       "    </tr>\n",
       "  </tbody>\n",
       "</table>\n",
       "<p>65963 rows × 49 columns</p>\n",
       "</div>"
      ],
      "text/plain": [
       "      country_code  v1_family  v1_friends  v1_leisure  v1_politics  v1_work  \\\n",
       "0               AD          1           1           1            3        1   \n",
       "1               AD          1           1           1            4        1   \n",
       "2               AD          1           2           2            2        3   \n",
       "3               AD          1           1           1            4        2   \n",
       "4               AD          1           1           1            3        1   \n",
       "...            ...        ...         ...         ...          ...      ...   \n",
       "71353           ZW          1           3           1            1        1   \n",
       "71354           ZW          1           1           2            1        1   \n",
       "71355           ZW          1           3           2            2        2   \n",
       "71356           ZW          1           2           2            1        1   \n",
       "71357           ZW          1           2           2            2        1   \n",
       "\n",
       "       v1_religion     sex              marital_status education  ...  \\\n",
       "0                4  Female                     Married    Middle  ...   \n",
       "1                4    Male  Living together as married     Upper  ...   \n",
       "2                3    Male                   Separated     Upper  ...   \n",
       "3                4  Female  Living together as married     Lower  ...   \n",
       "4                3    Male  Living together as married     Lower  ...   \n",
       "...            ...     ...                         ...       ...  ...   \n",
       "71353            2  Female                     Married     Lower  ...   \n",
       "71354            1    Male                     Married     Upper  ...   \n",
       "71355            2  Female                     Married     Lower  ...   \n",
       "71356            1  Female                     Married     Lower  ...   \n",
       "71357            1    Male                     Married     Lower  ...   \n",
       "\n",
       "      v1_religion_Not_at_all_Imp  relation1 relation2  relation3  \\\n",
       "0                              1          1         0          0   \n",
       "1                              1          1         0          0   \n",
       "2                              0          0         0          0   \n",
       "3                              1          1         0          0   \n",
       "4                              0          1         0          0   \n",
       "...                          ...        ...       ...        ...   \n",
       "71353                          0          0         0          0   \n",
       "71354                          0          0         0          0   \n",
       "71355                          0          0         0          0   \n",
       "71356                          0          0         0          0   \n",
       "71357                          0          0         0          0   \n",
       "\n",
       "       male_indicator  female_indicator  relation4  relation5  relation6  \\\n",
       "0                   0                 1          0          1          0   \n",
       "1                   1                 0          1          0          0   \n",
       "2                   1                 0          0          0          0   \n",
       "3                   0                 1          0          0          0   \n",
       "4                   1                 0          1          0          0   \n",
       "...               ...               ...        ...        ...        ...   \n",
       "71353               0                 1          0          1          0   \n",
       "71354               1                 0          1          0          1   \n",
       "71355               0                 1          0          0          0   \n",
       "71356               0                 1          0          1          0   \n",
       "71357               1                 0          1          0          1   \n",
       "\n",
       "       relation7  \n",
       "0              0  \n",
       "1              0  \n",
       "2              0  \n",
       "3              0  \n",
       "4              0  \n",
       "...          ...  \n",
       "71353          0  \n",
       "71354          0  \n",
       "71355          0  \n",
       "71356          1  \n",
       "71357          0  \n",
       "\n",
       "[65963 rows x 49 columns]"
      ]
     },
     "execution_count": 158,
     "metadata": {},
     "output_type": "execute_result"
    }
   ],
   "source": [
    "df[df.GDP < np.percentile(df.GDP,95)]"
   ]
  },
  {
   "cell_type": "code",
   "execution_count": 159,
   "id": "636bef9f",
   "metadata": {},
   "outputs": [
    {
     "data": {
      "image/png": "[encoded data removed]",
      "text/plain": [
       "<Figure size 360x360 with 1 Axes>"
      ]
     },
     "metadata": {
      "needs_background": "light"
     },
     "output_type": "display_data"
    }
   ],
   "source": [
    "# 95th Percentile\n",
    "\n",
    "sns.lmplot(x=\"GDP\", y=\"v1_work_Very_Imp\", data=df5[df5.GDP < np.percentile(df5.GDP,95)]);"
   ]
  },
  {
   "cell_type": "code",
   "execution_count": 160,
   "id": "a3c394b3",
   "metadata": {},
   "outputs": [
    {
     "data": {
      "image/png": "[encoded data removed]",
      "text/plain": [
       "<Figure size 360x360 with 1 Axes>"
      ]
     },
     "metadata": {
      "needs_background": "light"
     },
     "output_type": "display_data"
    }
   ],
   "source": [
    "# 90th Percentile\n",
    "\n",
    "sns.lmplot(x=\"GDP\", y=\"v1_work_Very_Imp\", data=df5[df5.GDP < np.percentile(df5.GDP,90)]);"
   ]
  },
  {
   "cell_type": "code",
   "execution_count": 161,
   "id": "f7654953",
   "metadata": {},
   "outputs": [],
   "source": [
    "# Result: There is negative relation. \n",
    "# We are using machine learing\n",
    "# Regression models are used as the categorical variable - work_very_imp was converted into a continous variable\n",
    "# So the variables used ie. work_very_imp and GDP are continuous\n",
    "# This could be used to run the prediction"
   ]
  }
 ],
 "metadata": {
  "kernelspec": {
   "display_name": "Python 3 (ipykernel)",
   "language": "python",
   "name": "python3"
  },
  "language_info": {
   "codemirror_mode": {
    "name": "ipython",
    "version": 3
   },
   "file_extension": ".py",
   "mimetype": "text/x-python",
   "name": "python",
   "nbconvert_exporter": "python",
   "pygments_lexer": "ipython3",
   "version": "3.9.7"
  },
  "widgets": {
   "application/vnd.jupyter.widget-state+json": {
    "state": {},
    "version_major": 2,
    "version_minor": 0
   }
  }
 },
 "nbformat": 4,
 "nbformat_minor": 5
}
